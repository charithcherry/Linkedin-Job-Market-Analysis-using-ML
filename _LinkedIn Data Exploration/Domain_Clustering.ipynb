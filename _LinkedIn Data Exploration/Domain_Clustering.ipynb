{
 "cells": [
  {
   "cell_type": "code",
   "execution_count": null,
   "id": "c6806e2f",
   "metadata": {},
   "outputs": [],
   "source": [
    "import pandas as pd\n"
   ]
  },
  {
   "cell_type": "code",
   "execution_count": null,
   "id": "485b0b53",
   "metadata": {},
   "outputs": [],
   "source": [
    "# Load dataframes\n",
    "df_A = pd.read_csv('Sample_Domain_Data.csv',encoding='latin-1')\n",
    "df_B = pd.read_csv('Domain_TD.csv', encoding='latin-1')\n",
    "\n",
    "# Initialize a new column in df_A for the cluster\n",
    "df_A['clusters'] = None\n",
    "df_A['job_title'] = df_A['job_title'].astype(str).fillna('')\n",
    "df_A['description_mod'] = df_A['description_mod'].astype(str).fillna('')"
   ]
  },
  {
   "cell_type": "code",
   "execution_count": null,
   "id": "5f55f073",
   "metadata": {},
   "outputs": [],
   "source": [
    "# Function to find clusters and calculate probabilities\n",
    "def find_clusters_with_probabilities(title, description, df_B):\n",
    "    cluster_matches = {}\n",
    "    \n",
    "    for index, row in df_B.iterrows():\n",
    "        domain = row['Domain'].strip().lower()\n",
    "        keywords = row['keywords'].split(',')  # assuming keywords are comma-separated\n",
    "        match_count = sum(1 for keyword in keywords if keyword.strip().lower() in title.lower() or keyword.strip().lower() in description.lower())\n",
    "        \n",
    "        # Check if title has more than half the words from domain\n",
    "        domain_words = domain.split()\n",
    "        half_domain_word_count = len(domain_words) / 2\n",
    "        title_word_count = len(title.split())\n",
    "        \n",
    "        if title_word_count > 0 and len(set(title.lower().split()) & set(domain_words)) > half_domain_word_count:\n",
    "            # If condition is met, assign 50% to this cluster\n",
    "            cluster = f\"{row['Domain']}:{row['Sub-Domain']}\"\n",
    "            cluster_matches[cluster] = 50  # Initial 50%\n",
    "\n",
    "        if match_count > 0:\n",
    "            cluster = f\"{row['Domain']}:{row['Sub-Domain']}\"\n",
    "            if cluster not in cluster_matches:\n",
    "                cluster_matches[cluster] = 0  # Initialize if not already\n",
    "            cluster_matches[cluster] += match_count  # Add keyword matches to the cluster\n",
    "\n",
    "    if not cluster_matches:\n",
    "        return {'Uncategorized': 100}\n",
    "\n",
    "    # Calculate probabilities\n",
    "    total_matches = sum(cluster_matches.values())\n",
    "    probabilities = {}\n",
    "\n",
    "    for cluster, count in cluster_matches.items():\n",
    "        if count >= 4:\n",
    "            probabilities[cluster] = 100.0\n",
    "        else:\n",
    "            # Adjust the total match count by deducting 50 for the already assigned 50%\n",
    "            if count > 50:  # Only use counts that are more than the initial 50%\n",
    "                probabilities[cluster] = 50 + ((count - 50) / total_matches * 50)\n",
    "            else:\n",
    "                probabilities[cluster] = count / total_matches * 50\n",
    "\n",
    "    return probabilities"
   ]
  },
  {
   "cell_type": "code",
   "execution_count": null,
   "id": "80a878d3",
   "metadata": {},
   "outputs": [],
   "source": [
    "# Apply the function to each row in df_A\n",
    "df_A['clusters'] = df_A.apply(lambda row: find_clusters_with_probabilities(row['job_title'], row['description_mod'], df_B), axis=1)"
   ]
  },
  {
   "cell_type": "code",
   "execution_count": null,
   "id": "0451d8ba",
   "metadata": {},
   "outputs": [],
   "source": [
    "# Save the updated dataframe to a new CSV file if needed\n",
    "df_A.to_csv('df_A_clustered.csv', index=False)"
   ]
  },
  {
   "cell_type": "code",
   "execution_count": null,
   "id": "bcea5104",
   "metadata": {},
   "outputs": [],
   "source": []
  }
 ],
 "metadata": {
  "kernelspec": {
   "display_name": "Python 3 (ipykernel)",
   "language": "python",
   "name": "python3"
  },
  "language_info": {
   "codemirror_mode": {
    "name": "ipython",
    "version": 3
   },
   "file_extension": ".py",
   "mimetype": "text/x-python",
   "name": "python",
   "nbconvert_exporter": "python",
   "pygments_lexer": "ipython3",
   "version": "3.9.5"
  }
 },
 "nbformat": 4,
 "nbformat_minor": 5
}
