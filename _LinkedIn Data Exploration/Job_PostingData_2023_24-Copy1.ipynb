{
 "cells": [
  {
   "cell_type": "code",
   "execution_count": null,
   "id": "f2f44a12",
   "metadata": {},
   "outputs": [],
   "source": [
    "import pandas as pd\n",
    "import datetime\n",
    "import numpy as np\n",
    "# Testing"
   ]
  },
  {
   "cell_type": "markdown",
   "id": "18abf3e8",
   "metadata": {},
   "source": [
    "# Linkedin Data from Kaggle"
   ]
  },
  {
   "cell_type": "code",
   "execution_count": null,
   "id": "7fb308df",
   "metadata": {},
   "outputs": [],
   "source": [
    "data = pd.read_csv(\"job postings 2023 24/postings.csv\")"
   ]
  },
  {
   "cell_type": "code",
   "execution_count": null,
   "id": "6ccca3c8",
   "metadata": {},
   "outputs": [],
   "source": [
    "data.columns"
   ]
  },
  {
   "cell_type": "code",
   "execution_count": null,
   "id": "460b7e30",
   "metadata": {},
   "outputs": [],
   "source": [
    "data.original_listed_time[:2]"
   ]
  },
  {
   "cell_type": "code",
   "execution_count": null,
   "id": "ee0967ff",
   "metadata": {},
   "outputs": [],
   "source": [
    "def convert_unix_to_ddmmyyyy(unix_time):\n",
    "    # Convert from milliseconds to seconds\n",
    "    unix_time_seconds = unix_time / 1000.0\n",
    "    \n",
    "    # Convert to datetime and handle errors\n",
    "    formatted_dates = pd.to_datetime(unix_time_seconds, unit='s', errors='coerce')\n",
    "    \n",
    "    # Format as 'dd-mm-yyyy'\n",
    "    return formatted_dates.dt.strftime('%d-%m-%Y')"
   ]
  },
  {
   "cell_type": "code",
   "execution_count": null,
   "id": "c1cbc863",
   "metadata": {},
   "outputs": [],
   "source": [
    "raw_data = data.copy()"
   ]
  },
  {
   "cell_type": "code",
   "execution_count": null,
   "id": "229a241f",
   "metadata": {},
   "outputs": [],
   "source": [
    "raw_data['original_listed_time_mod'] = convert_unix_to_ddmmyyyy(raw_data['original_listed_time'])"
   ]
  },
  {
   "cell_type": "code",
   "execution_count": null,
   "id": "231085eb",
   "metadata": {},
   "outputs": [],
   "source": [
    "raw_data['original_listed_time_mod'] =pd.to_datetime(raw_data['original_listed_time_mod'], format='%d-%m-%Y', errors='coerce')"
   ]
  },
  {
   "cell_type": "code",
   "execution_count": null,
   "id": "4b9775bd",
   "metadata": {},
   "outputs": [],
   "source": [
    "raw_data['original_listed_time_mod'].min()"
   ]
  },
  {
   "cell_type": "code",
   "execution_count": null,
   "id": "4bdf870e",
   "metadata": {},
   "outputs": [],
   "source": [
    "raw_data['original_listed_time_mod'].max()"
   ]
  },
  {
   "cell_type": "markdown",
   "id": "61667a47",
   "metadata": {},
   "source": [
    "# Data Scraped from ScrapingDog API"
   ]
  },
  {
   "cell_type": "code",
   "execution_count": null,
   "id": "0f820b66",
   "metadata": {},
   "outputs": [],
   "source": [
    "import requests\n",
    "\n",
    "def fetch_all_linkedin_jobs(api_key, fields, geoids, pages):\n",
    "    url = \"https://api.scrapingdog.com/linkedinjobs/\"\n",
    "    all_data = []  # Store data from all requests\n",
    "\n",
    "    # Iterate over each combination of field, geoid, and page\n",
    "    for field in fields:\n",
    "        for geoid in geoids:\n",
    "            for page in pages:\n",
    "                params = {\n",
    "                    \"api_key\": api_key,\n",
    "                    \"field\": field,\n",
    "                    \"geoid\": geoid,\n",
    "                    \"page\": page\n",
    "                }\n",
    "                \n",
    "                response = requests.get(url, params=params)\n",
    "                \n",
    "                if response.status_code == 200:\n",
    "                    # Append data from each request to the list\n",
    "                    all_data.extend(response.json())\n",
    "                else:\n",
    "                    print(f\"Request failed for field: {field}, geoid: {geoid}, page: {page} with status code: {response.status_code}\")\n",
    "\n",
    "    return all_data\n",
    "\n",
    "# Usage example\n",
    "api_key = \"671da7467fddaf7ca053001a\"\n",
    "fields = [\"java\", \"data science\", \"machine learning\"]\n",
    "geoids = [\"100293800\",\"103736294\",\"102277331\"]  # NV, Colorado, California\n",
    "pages = [\"1\", \"2\", \"3\"]\n",
    "\n",
    "# data = fetch_all_linkedin_jobs(api_key, fields, geoids, pages)\n",
    "\n"
   ]
  },
  {
   "cell_type": "code",
   "execution_count": null,
   "id": "b1c26cdc",
   "metadata": {},
   "outputs": [],
   "source": [
    "if data:\n",
    "    new_Data = pd.DataFrame(data)\n",
    "    new_Data.to_csv(\"261024_Job_Data.csv\")"
   ]
  },
  {
   "cell_type": "markdown",
   "id": "e10045ce",
   "metadata": {},
   "source": [
    "# Data Preprocessing\n",
    "\n",
    "## Filtering Data\n",
    "\n",
    "Filtering Function Overview\n",
    "The filter_data function dynamically filters a DataFrame based on a specified list of columns and corresponding conditions. This flexibility allows for customized data extraction based on various criteria, such as dates, maximum or minimum values, and frequent items.\n",
    "\n",
    "Function Parameters\n",
    "df (pd.DataFrame): The input DataFrame containing the data you want to filter.\n",
    "\n",
    "columns (list): A list of column names to apply filters on. Each column corresponds to a condition in the conditions list.\n",
    "\n",
    "conditions (list): A list of conditions, where each element is a tuple specifying the operation and the value for filtering. Each tuple matches one of the columns in the columns list.\n"
   ]
  },
  {
   "cell_type": "code",
   "execution_count": null,
   "id": "ab432a02",
   "metadata": {},
   "outputs": [],
   "source": [
    "import pandas as pd\n",
    "\n",
    "def filter_data(df, columns, conditions):\n",
    "    \"\"\"\n",
    "    Filters a DataFrame based on a list of columns and their conditions.\n",
    "\n",
    "    Parameters:\n",
    "    - df (pd.DataFrame): The input DataFrame to filter.\n",
    "    - columns (list): List of column names to apply filters on.\n",
    "    - conditions (list): List of conditions where each element is a tuple in the format:\n",
    "                         (condition, value), for example ('>', '2024-04-20').\n",
    "                         Each tuple should correspond to a column in the columns list.\n",
    "    \n",
    "    Returns:\n",
    "    - pd.DataFrame: A filtered DataFrame.\n",
    "    \"\"\"\n",
    "    # Loop over each column and its corresponding condition\n",
    "    for column, (condition, value) in zip(columns, conditions):\n",
    "        if condition == '>':\n",
    "            df = df[df[column] > value]\n",
    "        elif condition == '<':\n",
    "            df = df[df[column] < value]\n",
    "        elif condition == '==':\n",
    "            df = df[df[column] == value]\n",
    "        elif condition == '>=':\n",
    "            df = df[df[column] >= value]\n",
    "        elif condition == '<=':\n",
    "            df = df[df[column] <= value]\n",
    "        elif condition == '!=':\n",
    "            df = df[df[column] != value]\n",
    "        elif condition == 'max':\n",
    "            max_value = df[column].max()\n",
    "            df = df[df[column] == max_value]\n",
    "        elif condition == 'min':\n",
    "            min_value = df[column].min()\n",
    "            df = df[df[column] == min_value]\n",
    "        elif condition == 'top_n':\n",
    "            top_n_counts = df[column].value_counts().nlargest(value)\n",
    "            df = df[df[column].isin(top_n_counts.index)]\n",
    "        elif condition == 'top_n':\n",
    "            top_n_counts = df[column].value_counts()#.nlargest(value)\n",
    "            df = df[df[column].isin(top_n_counts.index)]\n",
    "        else:\n",
    "            print(f\"Invalid condition '{condition}' for column '{column}'\")\n",
    "    \n",
    "    return df\n"
   ]
  },
  {
   "cell_type": "markdown",
   "id": "5f2a4400",
   "metadata": {},
   "source": [
    "## Filtering Scraped Data by Date"
   ]
  },
  {
   "cell_type": "code",
   "execution_count": null,
   "id": "66db85ce",
   "metadata": {},
   "outputs": [],
   "source": [
    "# Load the data\n",
    "scraped_data = pd.read_csv(\"C:/Users/DELL/Downloads/261024_Job_Data.csv\")\n",
    "\n",
    "# Convert date column to datetime if filtering by date\n",
    "scraped_data['job_posting_date'] = pd.to_datetime(scraped_data['job_posting_date'], errors='coerce')\n",
    "\n",
    "# Specify columns and conditions\n",
    "columns = ['job_posting_date']\n",
    "conditions = [('>', '2024-04-20')]\n",
    "\n",
    "# Apply the filter function\n",
    "filtered_scraped_data = filter_data(scraped_data, columns, conditions)\n",
    "\n",
    "# Save the filtered data\n",
    "filtered_scraped_data.to_csv(\"filtered_scraped_job_data.csv\", index=False)\n",
    "\n",
    "# Print the filtered data\n",
    "print(filtered_scraped_data)"
   ]
  },
  {
   "cell_type": "markdown",
   "id": "c33554ef-65be-45e6-bc67-bfeec59a3e92",
   "metadata": {},
   "source": [
    "## Filtering Current Kaggle Data to check top N job positions"
   ]
  },
  {
   "cell_type": "code",
   "execution_count": null,
   "id": "8f7d0974-f47c-4c8d-b5ad-29c3f2c24360",
   "metadata": {},
   "outputs": [],
   "source": [
    "import pandas as pd\n",
    "kaggledata = pd.read_csv(\"job postings 2023 24/postings.csv\")\n"
   ]
  },
  {
   "cell_type": "code",
   "execution_count": null,
   "id": "d97b4ef0-d4db-4951-a303-cf52c5848893",
   "metadata": {},
   "outputs": [],
   "source": [
    "def filter_top_n_values(df, column, n):\n",
    "    # Get the top n most frequent values in the specified column\n",
    "    top_n_values = df[column].value_counts()#.nlargest(n)\n",
    "    return top_n_values\n",
    "columns = ['title']\n",
    "conditions = [('top_n',50)]\n",
    "top_15_job_roles = filter_data(kaggledata, columns, conditions)\n",
    "\n",
    "print(top_15_job_roles)"
   ]
  },
  {
   "cell_type": "code",
   "execution_count": null,
   "id": "5283f025-29ad-4f02-8269-34800a75afd2",
   "metadata": {},
   "outputs": [],
   "source": [
    "top_15_job_roles['title'].unique()"
   ]
  },
  {
   "cell_type": "markdown",
   "id": "96a11c2f-a5cc-41d0-baa2-e47f2338d96e",
   "metadata": {},
   "source": [
    "## Data cube"
   ]
  },
  {
   "cell_type": "code",
   "execution_count": null,
   "id": "6bec2ae9-c6dc-4b44-b5bc-c60384258da5",
   "metadata": {},
   "outputs": [],
   "source": [
    "data_cube = kaggledata.pivot_table(\n",
    "    values=[\n",
    "        'med_salary', 'max_salary', 'min_salary', 'views', 'applies', 'normalized_salary'\n",
    "    ],\n",
    "    index=[\n",
    "        'location', 'company_name', 'title', 'formatted_work_type', 'remote_allowed', 'formatted_experience_level'\n",
    "    ],\n",
    "    aggfunc={\n",
    "        'med_salary': 'mean',           # Average median salary\n",
    "        'max_salary': 'max',            # Maximum salary\n",
    "        'min_salary': 'min',            # Minimum salary\n",
    "        'views': 'sum',                 # Total views\n",
    "        'applies': 'sum',               # Total applications\n",
    "        'normalized_salary': 'mean'     # Average normalized salary\n",
    "    }\n",
    ").reset_index()\n",
    "\n",
    "# Display the resulting data cube\n",
    "print(\"Data Cube:\")\n",
    "print(data_cube)\n",
    "\n",
    "# Optional: Save to CSV for further analysis\n",
    "data_cube.to_csv('job_data_cube.csv', index=False)"
   ]
  },
  {
   "cell_type": "markdown",
   "id": "51e22f7a-8495-4804-9990-65eab6fc33fa",
   "metadata": {},
   "source": [
    "## Dynamic data cube"
   ]
  },
  {
   "cell_type": "code",
   "execution_count": null,
   "id": "b0131eab-d2dd-4106-865d-7679d0721b14",
   "metadata": {},
   "outputs": [],
   "source": [
    "def dynamic_data_cube(df, company_name=None, title=None, location=None, work_type=None):\n",
    "    filtered_df = df.copy()\n",
    "    \n",
    "    # Apply filters based on user input\n",
    "    if company_name:\n",
    "        filtered_df = filtered_df[filtered_df['company_name'] == company_name]\n",
    "    if title:\n",
    "        filtered_df = filtered_df[filtered_df['title'] == title]\n",
    "    if location:\n",
    "        filtered_df = filtered_df[filtered_df['location'] == location]\n",
    "    if work_type:\n",
    "        filtered_df = filtered_df[filtered_df['formatted_work_type'] == work_type]\n",
    "    \n",
    "    # Check if filtered DataFrame is not empty\n",
    "    if filtered_df.empty:\n",
    "        return \"No data found for the specified filters.\"\n",
    "    \n",
    "    # Aggregate metrics for the filtered data\n",
    "    result = {\n",
    "        'Total Job Listings': len(filtered_df),\n",
    "        'Max Salary': filtered_df['max_salary'].max(),\n",
    "        'Min Salary': filtered_df['min_salary'].min(),\n",
    "        'Average Median Salary': filtered_df['med_salary'].mean(),\n",
    "        'Total Views': filtered_df['views'].sum(),\n",
    "        'Total Applications': filtered_df['applies'].sum(),\n",
    "        'Average Normalized Salary': filtered_df['normalized_salary'].mean()\n",
    "    }\n",
    "    \n",
    "    return result\n"
   ]
  },
  {
   "cell_type": "code",
   "execution_count": null,
   "id": "74843968-e7ac-4385-9ffc-f25363af85d9",
   "metadata": {},
   "outputs": [],
   "source": [
    "print(dynamic_data_cube(kaggledata, company_name=\"ServiceNow\"))"
   ]
  },
  {
   "cell_type": "code",
   "execution_count": null,
   "id": "d45d686e-c9e4-40b6-a530-20bbe1520eea",
   "metadata": {},
   "outputs": [],
   "source": [
    "print(dynamic_data_cube(kaggledata, title=\"Full Stack Java Developer\"))"
   ]
  },
  {
   "cell_type": "markdown",
   "id": "78b42813-8eab-4809-a2b2-bb1d28a37257",
   "metadata": {},
   "source": [
    "#### Mapping Postings with Industries based on Company ID"
   ]
  },
  {
   "cell_type": "code",
   "execution_count": 1,
   "id": "a00a478b-ab3a-42b7-8719-104cc8c0f927",
   "metadata": {},
   "outputs": [],
   "source": [
    "import pandas as pd\n",
    "\n",
    "# Load the datasets\n",
    "jobs_df = data = pd.read_csv(\"C:/Users/DELL/Linkedin-Job-Market-Analysis-using-ML/LinkedIn Scraper/job postings 2023 24/postings.csv\") \n",
    "industries_df = pd.read_csv('C:/Users/DELL/Linkedin-Job-Market-Analysis-using-ML/LinkedIn Scraper/job postings 2023 24/companies/company_industries.csv') \n",
    "# Merge the datasets on the company_id column\n",
    "merged_df = jobs_df.merge(industries_df, on='company_id', how='left')  # Perform a left join\n",
    "\n",
    "# Save the merged dataset to a new CSV file\n",
    "merged_df.to_csv('merged_jobs_with_industries.csv', index=False)\n",
    "\n",
    "print(\"Merge completed. The industries column has been added.\")\n"
   ]
  },
  {
   "cell_type": "code",
   "execution_count": 6,
   "id": "419fe30c-2240-40b9-bbc3-252dc2a7dbdf",
   "metadata": {},
   "outputs": [
    {
     "data": {
      "text/plain": [
       "<bound method NDFrame.head of             job_id                     company_name  \\\n",
       "0           921716            Corcoran Sawyer Smith   \n",
       "1          1829192                              NaN   \n",
       "2         10998357           The National Exemplar    \n",
       "3         23221523           Abrams Fensterman, LLP   \n",
       "4         35982263                              NaN   \n",
       "...            ...                              ...   \n",
       "123991  3906267117                     Lozano Smith   \n",
       "123992  3906267126                        Pinterest   \n",
       "123993  3906267131                     EPS Learning   \n",
       "123994  3906267195  Trelleborg Applied Technologies   \n",
       "123995  3906267224                        Solugenix   \n",
       "\n",
       "                                                    title  \\\n",
       "0                                   Marketing Coordinator   \n",
       "1                       Mental Health Therapist/Counselor   \n",
       "2                             Assitant Restaurant Manager   \n",
       "3       Senior Elder Law / Trusts and Estates Associat...   \n",
       "4                                      Service Technician   \n",
       "...                                                   ...   \n",
       "123991                   Title IX/Investigations Attorney   \n",
       "123992       Staff Software Engineer, ML Serving Platform   \n",
       "123993               Account Executive, Oregon/Washington   \n",
       "123994                       Business Development Manager   \n",
       "123995                  Marketing Social Media Specialist   \n",
       "\n",
       "                                              description  max_salary  \\\n",
       "0       Job descriptionA leading real estate firm in N...        20.0   \n",
       "1       At Aspen Therapy and Wellness , we are committ...        50.0   \n",
       "2       The National Exemplar is accepting application...     65000.0   \n",
       "3       Senior Associate Attorney - Elder Law / Trusts...    175000.0   \n",
       "4       Looking for HVAC service tech with experience ...     80000.0   \n",
       "...                                                   ...         ...   \n",
       "123991  Our Walnut Creek office is currently seeking a...    195000.0   \n",
       "123992  About Pinterest:\\n\\nMillions of people across ...         NaN   \n",
       "123993  Company Overview\\n\\nEPS Learning is a leading ...         NaN   \n",
       "123994  The Business Development Manager is a 'hunter'...         NaN   \n",
       "123995  Marketing Social Media Specialist - $70k – $75...     75000.0   \n",
       "\n",
       "       pay_period                 location  company_id  views  med_salary  \\\n",
       "0          HOURLY            Princeton, NJ   2774458.0   20.0         NaN   \n",
       "1          HOURLY         Fort Collins, CO         NaN    1.0         NaN   \n",
       "2          YEARLY           Cincinnati, OH  64896719.0    8.0         NaN   \n",
       "3          YEARLY        New Hyde Park, NY    766262.0   16.0         NaN   \n",
       "4          YEARLY           Burlington, IA         NaN    3.0         NaN   \n",
       "...           ...                      ...         ...    ...         ...   \n",
       "123991     YEARLY         Walnut Creek, CA     56120.0    1.0         NaN   \n",
       "123992        NaN            United States   1124131.0    3.0         NaN   \n",
       "123993        NaN              Spokane, WA  90552133.0    3.0         NaN   \n",
       "123994        NaN     Texas, United States   2793699.0    4.0         NaN   \n",
       "123995     YEARLY  San Juan Capistrano, CA     43325.0    2.0         NaN   \n",
       "\n",
       "        ...   listed_time              posting_domain  sponsored  work_type  \\\n",
       "0       ...  1.713398e+12                         NaN          0  FULL_TIME   \n",
       "1       ...  1.712858e+12                         NaN          0  FULL_TIME   \n",
       "2       ...  1.713278e+12                         NaN          0  FULL_TIME   \n",
       "3       ...  1.712896e+12                         NaN          0  FULL_TIME   \n",
       "4       ...  1.713452e+12                         NaN          0  FULL_TIME   \n",
       "...     ...           ...                         ...        ...        ...   \n",
       "123991  ...  1.713571e+12                         NaN          0  FULL_TIME   \n",
       "123992  ...  1.713572e+12    www.pinterestcareers.com          0  FULL_TIME   \n",
       "123993  ...  1.713572e+12  epsoperations.bamboohr.com          0  FULL_TIME   \n",
       "123994  ...  1.713573e+12                         NaN          0  FULL_TIME   \n",
       "123995  ...  1.713573e+12                         NaN          0  FULL_TIME   \n",
       "\n",
       "        currency compensation_type normalized_salary zip_code     fips  \\\n",
       "0            USD       BASE_SALARY           38480.0   8540.0  34021.0   \n",
       "1            USD       BASE_SALARY           83200.0  80521.0   8069.0   \n",
       "2            USD       BASE_SALARY           55000.0  45202.0  39061.0   \n",
       "3            USD       BASE_SALARY          157500.0  11040.0  36059.0   \n",
       "4            USD       BASE_SALARY           70000.0  52601.0  19057.0   \n",
       "...          ...               ...               ...      ...      ...   \n",
       "123991       USD       BASE_SALARY          157500.0  94595.0   6013.0   \n",
       "123992       NaN               NaN               NaN      NaN      NaN   \n",
       "123993       NaN               NaN               NaN  99201.0  53063.0   \n",
       "123994       NaN               NaN               NaN      NaN      NaN   \n",
       "123995       USD       BASE_SALARY           72500.0  92675.0   6059.0   \n",
       "\n",
       "                                  industry  \n",
       "0                              Real Estate  \n",
       "1                                      NaN  \n",
       "2                              Restaurants  \n",
       "3                             Law Practice  \n",
       "4                                      NaN  \n",
       "...                                    ...  \n",
       "123991                        Law Practice  \n",
       "123992                Software Development  \n",
       "123993   Education Administration Programs  \n",
       "123994  Industrial Machinery Manufacturing  \n",
       "123995       IT Services and IT Consulting  \n",
       "\n",
       "[123996 rows x 32 columns]>"
      ]
     },
     "execution_count": 6,
     "metadata": {},
     "output_type": "execute_result"
    }
   ],
   "source": [
    "merged_df.head"
   ]
  },
  {
   "cell_type": "markdown",
   "id": "681bce00-fc16-4b50-9220-7021b61172a8",
   "metadata": {},
   "source": [
    "#### Dynamic Data Cube: with industries included"
   ]
  },
  {
   "cell_type": "code",
   "execution_count": 7,
   "id": "4c1c38cf-aa28-4d86-8007-ec5a95bf2544",
   "metadata": {},
   "outputs": [],
   "source": [
    "def dynamic_data_cube(df, company_name=None, title=None, location=None, work_type=None, industry=None):\n",
    "    filtered_df = df.copy()\n",
    "    \n",
    "    # Apply filters based on user input\n",
    "    if company_name:\n",
    "        filtered_df = filtered_df[filtered_df['company_name'] == company_name]\n",
    "    if title:\n",
    "        filtered_df = filtered_df[filtered_df['title'] == title]\n",
    "    if location:\n",
    "        filtered_df = filtered_df[filtered_df['location'] == location]\n",
    "    if work_type:\n",
    "        filtered_df = filtered_df[filtered_df['formatted_work_type'] == work_type]\n",
    "    if industry:\n",
    "        filtered_df = filtered_df[filtered_df['industry'].str.contains(industry, case=False, na=False)]  # Case-insensitive\n",
    "    # Check if filtered DataFrame is not empty\n",
    "    if filtered_df.empty:\n",
    "        return \"No data found for the specified filters.\"\n",
    "    \n",
    "    # Aggregate metrics for the filtered data\n",
    "    result = {\n",
    "        'Total Job Listings': len(filtered_df),\n",
    "        'Max Salary': filtered_df['max_salary'].max(),\n",
    "        'Min Salary': filtered_df['min_salary'].min(),\n",
    "        'Average Median Salary': filtered_df['med_salary'].mean(),\n",
    "        'Total Views': filtered_df['views'].sum(),\n",
    "        'Total Applications': filtered_df['applies'].sum(),\n",
    "        'Average Normalized Salary': filtered_df['normalized_salary'].mean()\n",
    "    }\n",
    "    \n",
    "    return result"
   ]
  },
  {
   "cell_type": "code",
   "execution_count": 8,
   "id": "84917fc7-f969-4ad6-8114-34f96bf5141c",
   "metadata": {},
   "outputs": [
    {
     "name": "stdout",
     "output_type": "stream",
     "text": [
      "{'Total Job Listings': 343, 'Max Salary': np.float64(307900.0), 'Min Salary': np.float64(15.5), 'Average Median Salary': nan, 'Total Views': np.float64(4887.0), 'Total Applications': np.float64(293.0), 'Average Normalized Salary': np.float64(145290.2548387097)}\n"
     ]
    }
   ],
   "source": [
    "print(dynamic_data_cube(merged_df, company_name= \"Amazon\", industry=\"Software Development\"))"
   ]
  },
  {
   "cell_type": "code",
   "execution_count": 9,
   "id": "c578adcb-ba4d-44b7-ac39-2990e044a93b",
   "metadata": {},
   "outputs": [
    {
     "name": "stdout",
     "output_type": "stream",
     "text": [
      "{'Total Job Listings': 1304, 'Max Salary': np.float64(330000.0), 'Min Salary': np.float64(15.0), 'Average Median Salary': np.float64(17364.422), 'Total Views': np.float64(10317.0), 'Total Applications': np.float64(688.0), 'Average Normalized Salary': np.float64(88354.88512024048)}\n"
     ]
    }
   ],
   "source": [
    "print(dynamic_data_cube(merged_df, industry= \"Banking\"))"
   ]
  },
  {
   "cell_type": "code",
   "execution_count": 10,
   "id": "3d253491-b8b5-4a2a-a433-a316de33705a",
   "metadata": {},
   "outputs": [
    {
     "name": "stdout",
     "output_type": "stream",
     "text": [
      "{'Total Job Listings': 16553, 'Max Salary': np.float64(950000.0), 'Min Salary': np.float64(10.0), 'Average Median Salary': np.float64(26060.236622418877), 'Total Views': np.float64(114444.0), 'Total Applications': np.float64(7766.0), 'Average Normalized Salary': np.float64(360982.0397253541)}\n"
     ]
    }
   ],
   "source": [
    "print(dynamic_data_cube(merged_df, industry= \"Health care\"))"
   ]
  },
  {
   "cell_type": "markdown",
   "id": "a40e50c6-9a4f-4a94-b20a-7fb042f8ca8b",
   "metadata": {},
   "source": [
    "#### Aggregate metrics by industries for comparisons"
   ]
  },
  {
   "cell_type": "code",
   "execution_count": 12,
   "id": "a0b47b50-d3ad-46f6-86ff-546d91d03945",
   "metadata": {},
   "outputs": [
    {
     "name": "stdout",
     "output_type": "stream",
     "text": [
      "[{'industry': 'Accounting', 'max_salary': 125930.66279220779, 'min_salary': 77141.78220779222, 'views': 3817.0, 'applies': 330.0}, {'industry': 'Administration of Justice', 'max_salary': 92458.045, 'min_salary': 63872.7825, 'views': 70.0, 'applies': 1.0}, {'industry': 'Advertising Services', 'max_salary': 91359.05024390244, 'min_salary': 65853.44592682927, 'views': 27125.0, 'applies': 5561.0}, {'industry': 'Airlines and Aviation', 'max_salary': 111163.6608, 'min_salary': 84118.8782, 'views': 4836.0, 'applies': 449.0}, {'industry': 'Alternative Dispute Resolution', 'max_salary': nan, 'min_salary': nan, 'views': 3.0, 'applies': 0.0}, {'industry': 'Alternative Medicine', 'max_salary': 42028.5, 'min_salary': 31557.833333333332, 'views': 1076.0, 'applies': 251.0}, {'industry': 'Animation and Post-production', 'max_salary': nan, 'min_salary': nan, 'views': 74.0, 'applies': 15.0}, {'industry': 'Appliances, Electrical, and Electronics Manufacturing', 'max_salary': 85288.21811023621, 'min_salary': 62038.601023622046, 'views': 6471.0, 'applies': 619.0}, {'industry': 'Architecture and Planning', 'max_salary': 97085.04081632652, 'min_salary': 75021.21428571429, 'views': 1860.0, 'applies': 177.0}, {'industry': 'Armed Forces', 'max_salary': 52362.267428571424, 'min_salary': 37843.77142857143, 'views': 779.0, 'applies': 21.0}, {'industry': 'Artists and Writers', 'max_salary': 40607.2, 'min_salary': 35805.8, 'views': 150.0, 'applies': 8.0}, {'industry': 'Automation Machinery Manufacturing', 'max_salary': 125971.46586666667, 'min_salary': 84273.4572, 'views': 5350.0, 'applies': 422.0}, {'industry': 'Aviation and Aerospace Component Manufacturing', 'max_salary': 120601.42556451613, 'min_salary': 72254.16620967741, 'views': 4561.0, 'applies': 346.0}, {'industry': 'Banking', 'max_salary': 87239.18025404157, 'min_salary': 59576.36355658199, 'views': 9778.0, 'applies': 588.0}, {'industry': 'Beverage Manufacturing', 'max_salary': 99241.99166666667, 'min_salary': 79065.69333333333, 'views': 2037.0, 'applies': 158.0}, {'industry': 'Biotechnology Research', 'max_salary': 153042.27139072848, 'min_salary': 113232.75599337749, 'views': 14707.0, 'applies': 1554.0}, {'industry': 'Book and Periodical Publishing', 'max_salary': 68597.32608695653, 'min_salary': 54422.608695652176, 'views': 4656.0, 'applies': 357.0}, {'industry': 'Broadcast Media Production and Distribution', 'max_salary': 77145.94827586207, 'min_salary': 62214.221034482754, 'views': 1649.0, 'applies': 145.0}, {'industry': 'Business Consulting and Services', 'max_salary': 105566.55821428572, 'min_salary': 74192.153125, 'views': 39744.0, 'applies': 4392.0}, {'industry': 'Chemical Manufacturing', 'max_salary': 64509.556044776116, 'min_salary': 49815.32567164179, 'views': 4830.0, 'applies': 278.0}, {'industry': 'Civic and Social Organizations', 'max_salary': 75337.2268, 'min_salary': 63523.859599999996, 'views': 1552.0, 'applies': 104.0}, {'industry': 'Civil Engineering', 'max_salary': 116119.50068965518, 'min_salary': 79648.73379310344, 'views': 5395.0, 'applies': 296.0}, {'industry': 'Computer Games', 'max_salary': 157108.39285714287, 'min_salary': 95041.32142857143, 'views': 1923.0, 'applies': 219.0}, {'industry': 'Computer Hardware Manufacturing', 'max_salary': 229206.53846153847, 'min_salary': 148111.55384615384, 'views': 813.0, 'applies': 87.0}, {'industry': 'Computer Networking Products', 'max_salary': 58075.0, 'min_salary': 46525.0, 'views': 70.0, 'applies': 7.0}, {'industry': 'Computer and Network Security', 'max_salary': 173533.65096774194, 'min_salary': 125609.3841935484, 'views': 8210.0, 'applies': 1691.0}, {'industry': 'Computers and Electronics Manufacturing', 'max_salary': 169660.92105263157, 'min_salary': 112710.8947368421, 'views': 1652.0, 'applies': 142.0}, {'industry': 'Construction', 'max_salary': 98766.73150684932, 'min_salary': 68594.53416438356, 'views': 19936.0, 'applies': 1119.0}, {'industry': 'Consumer Services', 'max_salary': 81650.66, 'min_salary': 56569.740128205136, 'views': 6897.0, 'applies': 1556.0}, {'industry': 'Dairy Product Manufacturing', 'max_salary': 85000.0, 'min_salary': 70000.0, 'views': 39.0, 'applies': 3.0}, {'industry': 'Defense and Space Manufacturing', 'max_salary': 151328.66607407408, 'min_salary': 96985.4598888889, 'views': 9903.0, 'applies': 642.0}, {'industry': 'Design Services', 'max_salary': 93958.85714285714, 'min_salary': 65962.24415584415, 'views': 5299.0, 'applies': 728.0}, {'industry': 'E-Learning Providers', 'max_salary': 80193.96, 'min_salary': 61131.3, 'views': 7922.0, 'applies': 909.0}, {'industry': 'Education Administration Programs', 'max_salary': 63809.24852272728, 'min_salary': 44037.21619318182, 'views': 8729.0, 'applies': 674.0}, {'industry': 'Entertainment Providers', 'max_salary': 144465.97598425197, 'min_salary': 83601.896496063, 'views': 30316.0, 'applies': 2273.0}, {'industry': 'Environmental Services', 'max_salary': 78106.89651428572, 'min_salary': 58149.90251428571, 'views': 7313.0, 'applies': 516.0}, {'industry': 'Events Services', 'max_salary': 56605.36, 'min_salary': 47704.48, 'views': 1546.0, 'applies': 260.0}, {'industry': 'Executive Offices', 'max_salary': 82745.76875, 'min_salary': 63964.58125, 'views': 647.0, 'applies': 152.0}, {'industry': 'Facilities Services', 'max_salary': 45996.884545454544, 'min_salary': 35212.61558441558, 'views': 2893.0, 'applies': 163.0}, {'industry': 'Farming', 'max_salary': 65588.77777777778, 'min_salary': 52616.0, 'views': 739.0, 'applies': 49.0}, {'industry': 'Financial Services', 'max_salary': 129256.93597747384, 'min_salary': 83135.5618020917, 'views': 75988.0, 'applies': 8344.0}, {'industry': 'Fisheries', 'max_salary': 83342.71666666666, 'min_salary': 58339.166666666664, 'views': 108.0, 'applies': 5.0}, {'industry': 'Food and Beverage Manufacturing', 'max_salary': 55294.90735632184, 'min_salary': 42010.37574712643, 'views': 10133.0, 'applies': 1067.0}, {'industry': 'Food and Beverage Services', 'max_salary': 69496.91973214285, 'min_salary': 53521.0765625, 'views': 15773.0, 'applies': 1664.0}, {'industry': 'Freight and Package Transportation', 'max_salary': 9730.715217391305, 'min_salary': 6254.723913043478, 'views': 1158.0, 'applies': 97.0}, {'industry': 'Fundraising', 'max_salary': 111666.66666666667, 'min_salary': 92555.55555555556, 'views': 375.0, 'applies': 82.0}, {'industry': 'Furniture and Home Furnishings Manufacturing', 'max_salary': 56700.41225806452, 'min_salary': 41816.71161290323, 'views': 1754.0, 'applies': 171.0}, {'industry': 'Gambling Facilities and Casinos', 'max_salary': 92016.14285714286, 'min_salary': 76077.85714285714, 'views': 994.0, 'applies': 87.0}, {'industry': 'Glass, Ceramics and Concrete Manufacturing', 'max_salary': 83066.66666666667, 'min_salary': 70666.66666666667, 'views': 199.0, 'applies': 28.0}, {'industry': 'Government Administration', 'max_salary': 72104.81086655112, 'min_salary': 52178.59142114385, 'views': 10739.0, 'applies': 454.0}, {'industry': 'Government Relations Services', 'max_salary': 78805.66666666667, 'min_salary': 58430.833333333336, 'views': 519.0, 'applies': 73.0}, {'industry': 'Graphic Design', 'max_salary': nan, 'min_salary': nan, 'views': 101.0, 'applies': 10.0}, {'industry': 'Higher Education', 'max_salary': 63367.753944020355, 'min_salary': 46072.939770992365, 'views': 17966.0, 'applies': 1439.0}, {'industry': 'Hospitality', 'max_salary': 55410.43501424502, 'min_salary': 44337.09797720798, 'views': 16511.0, 'applies': 1087.0}, {'industry': 'Hospitals and Health Care', 'max_salary': 52788.71069352965, 'min_salary': 36028.60851995351, 'views': 107567.0, 'applies': 6979.0}, {'industry': 'Human Resources Services', 'max_salary': 85619.68508090616, 'min_salary': 67520.40682847897, 'views': 18519.0, 'applies': 2319.0}, {'industry': 'IT Services and IT Consulting', 'max_salary': 84388.44983037475, 'min_salary': 55987.44246548324, 'views': 286088.0, 'applies': 61302.0}, {'industry': 'Individual and Family Services', 'max_salary': 59104.08474226804, 'min_salary': 49623.28360824742, 'views': 2430.0, 'applies': 135.0}, {'industry': 'Industrial Machinery Manufacturing', 'max_salary': 72965.9788, 'min_salary': 52303.37137142857, 'views': 10118.0, 'applies': 419.0}, {'industry': 'Information Services', 'max_salary': 114722.24444444444, 'min_salary': 86701.28888888888, 'views': 5068.0, 'applies': 844.0}, {'industry': 'Insurance', 'max_salary': 112825.27139622642, 'min_salary': 69718.08935849057, 'views': 26592.0, 'applies': 2726.0}, {'industry': 'International Affairs', 'max_salary': nan, 'min_salary': nan, 'views': 328.0, 'applies': 19.0}, {'industry': 'International Trade and Development', 'max_salary': 99679.72727272728, 'min_salary': 77294.90909090909, 'views': 1066.0, 'applies': 124.0}, {'industry': 'Investment Banking', 'max_salary': 133640.45454545456, 'min_salary': 108639.54545454546, 'views': 539.0, 'applies': 100.0}, {'industry': 'Investment Management', 'max_salary': 169378.25, 'min_salary': 100627.75, 'views': 463.0, 'applies': 52.0}, {'industry': 'Law Enforcement', 'max_salary': 122121.91807692309, 'min_salary': 85351.74730769232, 'views': 615.0, 'applies': 22.0}, {'industry': 'Law Practice', 'max_salary': 117911.90060714286, 'min_salary': 85534.59825000001, 'views': 10880.0, 'applies': 1036.0}, {'industry': 'Leasing Non-residential Real Estate', 'max_salary': 47513.0, 'min_salary': 40012.0, 'views': 83.0, 'applies': 14.0}, {'industry': 'Legal Services', 'max_salary': 447651.4285714286, 'min_salary': 159841.57142857142, 'views': 845.0, 'applies': 179.0}, {'industry': 'Legislative Offices', 'max_salary': 67500.0, 'min_salary': 62500.0, 'views': 78.0, 'applies': 10.0}, {'industry': 'Libraries', 'max_salary': 93910.23, 'min_salary': 72479.40333333334, 'views': 89.0, 'applies': 13.0}, {'industry': 'Machinery Manufacturing', 'max_salary': 53597.3593877551, 'min_salary': 39456.348163265306, 'views': 5174.0, 'applies': 588.0}, {'industry': 'Manufacturing', 'max_salary': 82577.62215053765, 'min_salary': 64237.99456989247, 'views': 13426.0, 'applies': 1646.0}, {'industry': 'Maritime Transportation', 'max_salary': 75000.0, 'min_salary': 55000.0, 'views': 33.0, 'applies': 1.0}, {'industry': 'Market Research', 'max_salary': 107928.57142857143, 'min_salary': 80571.42857142857, 'views': 1114.0, 'applies': 147.0}, {'industry': 'Media Production', 'max_salary': 80475.423, 'min_salary': 64861.13566666667, 'views': 2819.0, 'applies': 499.0}, {'industry': 'Medical Equipment Manufacturing', 'max_salary': 107068.97705128204, 'min_salary': 75949.86965811966, 'views': 13191.0, 'applies': 1615.0}, {'industry': 'Medical Practices', 'max_salary': 56303.333333333336, 'min_salary': 41918.71428571428, 'views': 867.0, 'applies': 79.0}, {'industry': 'Mental Health Care', 'max_salary': 40965.44015, 'min_salary': 30981.1172, 'views': 6877.0, 'applies': 787.0}, {'industry': 'Mining', 'max_salary': 87857.04, 'min_salary': 70990.4848, 'views': 2594.0, 'applies': 281.0}, {'industry': 'Mobile Gaming Apps', 'max_salary': nan, 'min_salary': nan, 'views': 5.0, 'applies': 0.0}, {'industry': 'Motor Vehicle Manufacturing', 'max_salary': 83475.36435582822, 'min_salary': 53598.76515337424, 'views': 12377.0, 'applies': 1227.0}, {'industry': 'Museums, Historical Sites, and Zoos', 'max_salary': 72205.8435, 'min_salary': 59117.853, 'views': 1147.0, 'applies': 71.0}, {'industry': 'Musicians', 'max_salary': 98305.0, 'min_salary': 62080.1, 'views': 2045.0, 'applies': 274.0}, {'industry': 'Nanotechnology Research', 'max_salary': 111626.0, 'min_salary': 79733.0, 'views': 34.0, 'applies': 4.0}, {'industry': 'Newspaper Publishing', 'max_salary': 143333.33333333334, 'min_salary': 87500.0, 'views': 512.0, 'applies': 129.0}, {'industry': 'Non-profit Organizations', 'max_salary': 64132.18237556561, 'min_salary': 50648.03490950226, 'views': 23517.0, 'applies': 1292.0}, {'industry': 'Oil and Gas', 'max_salary': 71136.37040540541, 'min_salary': 43252.81648648649, 'views': 7456.0, 'applies': 683.0}, {'industry': 'Online Audio and Video Media', 'max_salary': 176141.9175, 'min_salary': 107032.80027777777, 'views': 2878.0, 'applies': 460.0}, {'industry': 'Outsourcing and Offshoring Consulting', 'max_salary': 21457.714285714286, 'min_salary': 18417.85714285714, 'views': 4420.0, 'applies': 986.0}, {'industry': 'Packaging and Containers Manufacturing', 'max_salary': 68324.0301724138, 'min_salary': 50265.16672413793, 'views': 2850.0, 'applies': 218.0}, {'industry': 'Paper and Forest Product Manufacturing', 'max_salary': 93004.49478260869, 'min_salary': 68018.0243478261, 'views': 1314.0, 'applies': 106.0}, {'industry': 'Performing Arts', 'max_salary': 45795.0, 'min_salary': 40570.0, 'views': 440.0, 'applies': 38.0}, {'industry': 'Personal Care Product Manufacturing', 'max_salary': 107804.72661290322, 'min_salary': 74387.8879032258, 'views': 7615.0, 'applies': 1019.0}, {'industry': 'Pharmaceutical Manufacturing', 'max_salary': 136329.13928994082, 'min_salary': 90876.43923076923, 'views': 15073.0, 'applies': 1664.0}, {'industry': 'Philanthropic Fundraising Services', 'max_salary': 81676.0, 'min_salary': 73341.33333333333, 'views': 14.0, 'applies': 0.0}, {'industry': 'Photography', 'max_salary': 70000.0, 'min_salary': 70000.0, 'views': 1035.0, 'applies': 258.0}, {'industry': 'Plastics Manufacturing', 'max_salary': 60011.677, 'min_salary': 49010.327000000005, 'views': 1216.0, 'applies': 128.0}, {'industry': 'Political Organizations', 'max_salary': 58639.753333333334, 'min_salary': 51226.28333333333, 'views': 454.0, 'applies': 56.0}, {'industry': 'Primary and Secondary Education', 'max_salary': 77777.13765306123, 'min_salary': 55106.374897959184, 'views': 3090.0, 'applies': 198.0}, {'industry': 'Printing Services', 'max_salary': 31684.37090909091, 'min_salary': 25858.767272727273, 'views': 600.0, 'applies': 93.0}, {'industry': 'Professional Training and Coaching', 'max_salary': 84116.3294736842, 'min_salary': 57745.91157894737, 'views': 3261.0, 'applies': 578.0}, {'industry': 'Public Policy Offices', 'max_salary': 80000.0, 'min_salary': 60983.333333333336, 'views': 421.0, 'applies': 65.0}, {'industry': 'Public Relations and Communications Services', 'max_salary': 96054.4827586207, 'min_salary': 73885.8275862069, 'views': 3220.0, 'applies': 619.0}, {'industry': 'Public Safety', 'max_salary': 99905.24646464647, 'min_salary': 67778.02424242425, 'views': 3618.0, 'applies': 432.0}, {'industry': 'Railroad Equipment Manufacturing', 'max_salary': 103620.51000000001, 'min_salary': 76860.36666666667, 'views': 186.0, 'applies': 14.0}, {'industry': 'Real Estate', 'max_salary': 91320.17047222222, 'min_salary': 54801.85052777778, 'views': 30609.0, 'applies': 1665.0}, {'industry': 'Recreational Facilities', 'max_salary': 76685.08333333333, 'min_salary': 15348.166666666666, 'views': 237.0, 'applies': 3.0}, {'industry': 'Religious Institutions', 'max_salary': 75000.0, 'min_salary': 61666.666666666664, 'views': 469.0, 'applies': 40.0}, {'industry': 'Renewable Energy Semiconductor Manufacturing', 'max_salary': 139928.22579545455, 'min_salary': 100210.03829545453, 'views': 5467.0, 'applies': 741.0}, {'industry': 'Research Services', 'max_salary': 139356.62381578947, 'min_salary': 94311.31868421052, 'views': 4753.0, 'applies': 375.0}, {'industry': 'Restaurants', 'max_salary': 51805.78692307692, 'min_salary': 40370.03625, 'views': 4903.0, 'applies': 396.0}, {'industry': 'Retail', 'max_salary': 27686.525222772278, 'min_salary': 19599.329084158417, 'views': 62848.0, 'applies': 3077.0}, {'industry': 'Retail Apparel and Fashion', 'max_salary': 53005.438899999994, 'min_salary': 42288.68665, 'views': 17988.0, 'applies': 1420.0}, {'industry': 'Retail Groceries', 'max_salary': 70000.0, 'min_salary': 65000.0, 'views': 124.0, 'applies': 1.0}, {'industry': 'Retail Luxury Goods and Jewelry', 'max_salary': 48615.41222222223, 'min_salary': 37392.03870370371, 'views': 4055.0, 'applies': 687.0}, {'industry': 'Retail Office Equipment', 'max_salary': 58251.041666666664, 'min_salary': 34233.083333333336, 'views': 1864.0, 'applies': 83.0}, {'industry': 'Security and Investigations', 'max_salary': 45471.44682539682, 'min_salary': 37708.07777777778, 'views': 2308.0, 'applies': 126.0}, {'industry': 'Semiconductor Manufacturing', 'max_salary': 159654.25402439025, 'min_salary': 106479.61621951219, 'views': 2682.0, 'applies': 185.0}, {'industry': 'Shipbuilding', 'max_salary': 42514.57, 'min_salary': 35009.915, 'views': 224.0, 'applies': 9.0}, {'industry': 'Software Development', 'max_salary': 232103.70129050597, 'min_salary': 157421.86504263786, 'views': 178845.0, 'applies': 29604.0}, {'industry': 'Spectator Sports', 'max_salary': 55357.12, 'min_salary': 44175.76, 'views': 11173.0, 'applies': 628.0}, {'industry': 'Sporting Goods Manufacturing', 'max_salary': 74427.7, 'min_salary': 54174.97666666666, 'views': 2644.0, 'applies': 48.0}, {'industry': 'Staffing and Recruiting', 'max_salary': 80968.38243984044, 'min_salary': 62063.2489538026, 'views': 329587.0, 'applies': 59355.0}, {'industry': 'Strategic Management Services', 'max_salary': nan, 'min_salary': nan, 'views': 21.0, 'applies': 1.0}, {'industry': 'Technology, Information and Internet', 'max_salary': 141494.375125, 'min_salary': 111038.12962499999, 'views': 3289.0, 'applies': 466.0}, {'industry': 'Telecommunications', 'max_salary': 113155.67648026315, 'min_salary': 73559.63203947368, 'views': 13374.0, 'applies': 1527.0}, {'industry': 'Textile Manufacturing', 'max_salary': 62416.79363636363, 'min_salary': 48097.3709090909, 'views': 970.0, 'applies': 61.0}, {'industry': 'Think Tanks', 'max_salary': 146500.0, 'min_salary': 96200.0, 'views': 186.0, 'applies': 21.0}, {'industry': 'Tobacco Manufacturing', 'max_salary': 95742.85714285714, 'min_salary': 75700.0, 'views': 382.0, 'applies': 47.0}, {'industry': 'Translation and Localization', 'max_salary': 75004.2, 'min_salary': 62003.6, 'views': 1106.0, 'applies': 172.0}, {'industry': 'Transportation, Logistics, Supply Chain and Storage', 'max_salary': 99553.00476190477, 'min_salary': 81086.8142857143, 'views': 992.0, 'applies': 157.0}, {'industry': 'Travel Arrangements', 'max_salary': 57129.300833333335, 'min_salary': 43107.378749999996, 'views': 3245.0, 'applies': 358.0}, {'industry': 'Truck Transportation', 'max_salary': 66898.07484615385, 'min_salary': 50055.99600000001, 'views': 14325.0, 'applies': 1135.0}, {'industry': 'Utilities', 'max_salary': 98621.26410112361, 'min_salary': 75408.49365168539, 'views': 8866.0, 'applies': 1216.0}, {'industry': 'Venture Capital and Private Equity Principals', 'max_salary': 113673.22222222222, 'min_salary': 89574.88888888889, 'views': 1288.0, 'applies': 301.0}, {'industry': 'Veterinary Services', 'max_salary': 29541.75, 'min_salary': 27533.5, 'views': 279.0, 'applies': 15.0}, {'industry': 'Warehousing and Storage', 'max_salary': 85000.0, 'min_salary': 80000.0, 'views': 4.0, 'applies': 0.0}, {'industry': 'Wellness and Fitness Services', 'max_salary': 57492.33418918918, 'min_salary': 46032.25790540541, 'views': 18635.0, 'applies': 2017.0}, {'industry': 'Wholesale', 'max_salary': 56330.86744897959, 'min_salary': 42383.84551020408, 'views': 4296.0, 'applies': 206.0}, {'industry': 'Wholesale Building Materials', 'max_salary': 53251.414903846155, 'min_salary': 36893.285192307696, 'views': 6793.0, 'applies': 625.0}, {'industry': 'Wholesale Import and Export', 'max_salary': nan, 'min_salary': nan, 'views': 9.0, 'applies': 2.0}, {'industry': 'Wireless Services', 'max_salary': 76000.0, 'min_salary': 76000.0, 'views': 4.0, 'applies': 0.0}, {'industry': 'Writing and Editing', 'max_salary': 72515.5, 'min_salary': 61262.5, 'views': 101.0, 'applies': 23.0}]\n"
     ]
    }
   ],
   "source": [
    "industry_metrics = merged_df.groupby('industry').agg({\n",
    "    'max_salary': 'mean',\n",
    "    'min_salary': 'mean',\n",
    "    'views': 'sum',\n",
    "    'applies': 'sum'\n",
    "}).reset_index()\n",
    "result = {}\n",
    "result['Industry Insights'] = industry_metrics.to_dict('records')\n",
    "print(result['Industry Insights'])"
   ]
  },
  {
   "cell_type": "code",
   "execution_count": 20,
   "id": "dfcf4170-3ce9-4b7e-94f8-20d21879b16a",
   "metadata": {},
   "outputs": [
    {
     "data": {
      "text/plain": [
       "'temp-plot.html'"
      ]
     },
     "execution_count": 20,
     "metadata": {},
     "output_type": "execute_result"
    }
   ],
   "source": [
    "import plotly.express as px\n",
    "from plotly.offline import plot\n",
    "# Create a bar plot with Plotly\n",
    "fig = px.bar(industry_metrics, x='industry', y=['max_salary', 'min_salary'], \n",
    "             title=\"Max and Min Salary by Industry\", labels={'max_salary': 'Max Salary', 'min_salary': 'Min Salary'})\n",
    "\n",
    "# To ensure Plotly works in Jupyter, you might need to explicitly render it\n",
    "plot(fig)"
   ]
  },
  {
   "cell_type": "code",
   "execution_count": null,
   "id": "9e490752-8242-4736-b873-f71647c96c6a",
   "metadata": {},
   "outputs": [],
   "source": []
  }
 ],
 "metadata": {
  "kernelspec": {
   "display_name": "Python 3 (ipykernel)",
   "language": "python",
   "name": "python3"
  },
  "language_info": {
   "codemirror_mode": {
    "name": "ipython",
    "version": 3
   },
   "file_extension": ".py",
   "mimetype": "text/x-python",
   "name": "python",
   "nbconvert_exporter": "python",
   "pygments_lexer": "ipython3",
   "version": "3.9.5"
  }
 },
 "nbformat": 4,
 "nbformat_minor": 5
}
