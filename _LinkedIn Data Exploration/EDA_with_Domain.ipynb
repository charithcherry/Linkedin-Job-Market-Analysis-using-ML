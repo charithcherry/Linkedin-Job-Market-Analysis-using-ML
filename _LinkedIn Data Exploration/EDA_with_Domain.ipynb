{
 "cells": [
  {
   "cell_type": "code",
   "execution_count": null,
   "id": "66a5ed58",
   "metadata": {},
   "outputs": [],
   "source": [
    "import pandas as pd\n",
    "import plotly.express as px\n",
    "from collections import Counter\n",
    "import plotly.graph_objects as go"
   ]
  },
  {
   "cell_type": "markdown",
   "id": "f32f9fb7",
   "metadata": {},
   "source": [
    "## Load Data"
   ]
  },
  {
   "cell_type": "code",
   "execution_count": null,
   "id": "a342c411",
   "metadata": {},
   "outputs": [],
   "source": [
    "df = pd.read_csv(\"../_LinkedIn Data Exploration/REQ DATA/df_A_clustered_PS.csv\")"
   ]
  },
  {
   "cell_type": "code",
   "execution_count": null,
   "id": "140b3b60",
   "metadata": {},
   "outputs": [],
   "source": [
    "df.head(2)\n",
    "# Standardizing the cluster labels (removing extra spaces and making them lowercase)\n",
    "df['primary_cluster'] = df['primary_cluster'].str.strip().str.lower()\n",
    "df['secondary_cluster'] = df['secondary_cluster'].str.strip().str.lower()"
   ]
  },
  {
   "cell_type": "code",
   "execution_count": null,
   "id": "7329592a",
   "metadata": {},
   "outputs": [],
   "source": [
    "print(df['primary_cluster'].nunique())\n",
    "print(df['secondary_cluster'].nunique())"
   ]
  },
  {
   "cell_type": "code",
   "execution_count": null,
   "id": "aaa19334",
   "metadata": {},
   "outputs": [],
   "source": [
    "print(df['primary_cluster'].unique())"
   ]
  },
  {
   "cell_type": "code",
   "execution_count": null,
   "id": "f48ce7d0",
   "metadata": {},
   "outputs": [],
   "source": [
    "df.columns"
   ]
  },
  {
   "cell_type": "markdown",
   "id": "e4ff6d46",
   "metadata": {},
   "source": [
    "## Job Count Distribution by Cluster Type (Primary & Secondary)"
   ]
  },
  {
   "cell_type": "code",
   "execution_count": null,
   "id": "6ded9857",
   "metadata": {},
   "outputs": [],
   "source": [
    "# Step 1: Group by 'primary_cluster' and count unique 'job_id' for each cluster\n",
    "count_data_primary = df.groupby('primary_cluster')['job_id'].nunique().reset_index()\n",
    "count_data_primary.columns = ['cluster', 'job_count']\n",
    "count_data_primary['cluster_type'] = 'Primary Cluster'\n",
    "\n",
    "# Step 2: Group by 'secondary_cluster' and count unique 'job_id' for each cluster\n",
    "count_data_secondary = df.groupby('secondary_cluster')['job_id'].nunique().reset_index()\n",
    "count_data_secondary.columns = ['cluster', 'job_count']\n",
    "count_data_secondary['cluster_type'] = 'Secondary Cluster'\n",
    "\n",
    "# Step 3: Combine both datasets\n",
    "count_data = pd.concat([count_data_primary, count_data_secondary])\n",
    "\n",
    "# Step 4: Create the bubble plot\n",
    "fig = px.scatter(count_data, \n",
    "                 x='cluster', \n",
    "                 y='job_count', \n",
    "                 size='job_count', \n",
    "                 color='cluster_type', \n",
    "                 hover_name='cluster',\n",
    "                 size_max=50,  # Maximum size of the bubbles\n",
    "                 title=\"Job Count by Primary and Secondary Cluster\",\n",
    "                 labels={\"cluster\": \"Cluster\", \"job_count\": \"Job Count\", \"cluster_type\": \"Cluster Type\"})\n",
    "\n",
    "# Increase plot size\n",
    "fig.update_layout(\n",
    "    width=1000,  # Width of the plot\n",
    "    height=800,  # Height of the plot\n",
    ")\n",
    "\n",
    "# Show the plot\n",
    "fig.show()"
   ]
  },
  {
   "cell_type": "markdown",
   "id": "076ced3a",
   "metadata": {},
   "source": [
    "## Top 20 Skills Required based Primary Cluster"
   ]
  },
  {
   "cell_type": "code",
   "execution_count": null,
   "id": "91a99dec",
   "metadata": {},
   "outputs": [],
   "source": [
    "# Unique primary clusters\n",
    "primary_clusters = df['primary_cluster'].unique()\n",
    "\n",
    "# Function to generate skill counts for a given primary cluster\n",
    "def get_skill_counts(cluster):\n",
    "    filtered_df = df[df['primary_cluster'] == cluster]\n",
    "    skills = filtered_df['skills_desc'].dropna().str.split(',').explode()\n",
    "    skill_counts = Counter(skills)\n",
    "    skill_df = pd.DataFrame(skill_counts.items(), columns=['Skill', 'Count']).sort_values(by='Count', ascending=False)\n",
    "    return skill_df\n",
    "\n",
    "# Create the figure\n",
    "fig = go.Figure()\n",
    "\n",
    "# Add traces for each primary cluster\n",
    "for cluster in primary_clusters:\n",
    "    skill_df = get_skill_counts(cluster)\n",
    "    fig.add_trace(go.Bar(\n",
    "        x=skill_df['Count'].head(10),\n",
    "        y=skill_df['Skill'].head(10),\n",
    "        orientation='h',\n",
    "        name=f'Cluster {cluster}',\n",
    "        visible=True if cluster == primary_clusters[0] else False  # Only the first cluster is visible initially\n",
    "    ))\n",
    "\n",
    "# Create dropdown buttons\n",
    "dropdown_buttons = [\n",
    "    {\n",
    "        'label': f'Cluster {cluster}',\n",
    "        'method': 'update',\n",
    "        'args': [{'visible': [cluster == c for c in primary_clusters]}, {'title': f'Top 10 Skills Required in Primary Cluster {cluster}'}]\n",
    "    }\n",
    "    for cluster in primary_clusters\n",
    "]\n",
    "\n",
    "# Update layout with dropdown\n",
    "fig.update_layout(\n",
    "    updatemenus=[{\n",
    "        'buttons': dropdown_buttons,\n",
    "        'direction': 'down',\n",
    "        'showactive': True,\n",
    "        'x': 0.8,  # Horizontal position\n",
    "        'y': 1.15,  # Vertical position\n",
    "        'xanchor': 'left',\n",
    "        'yanchor': 'top'\n",
    "    }],\n",
    "    title=f'Top 10 Skills Required in Primary Cluster {primary_clusters[0]}',\n",
    "    width=1000,\n",
    "    height=800,\n",
    "    yaxis=dict(autorange=\"reversed\")  # Reverse the order of y-axis for better readability\n",
    ")\n",
    "\n",
    "# Show the plot\n",
    "fig.show()"
   ]
  },
  {
   "cell_type": "markdown",
   "id": "833b7ad2",
   "metadata": {},
   "source": [
    "## Skills Dataframe usage"
   ]
  },
  {
   "cell_type": "code",
   "execution_count": null,
   "id": "9bcd9488",
   "metadata": {},
   "outputs": [],
   "source": [
    "skills_id = pd.read_csv(\"../Job_Postings_Data_2023_24/jobs/job_skills.csv\")"
   ]
  },
  {
   "cell_type": "code",
   "execution_count": null,
   "id": "438b154c",
   "metadata": {},
   "outputs": [],
   "source": [
    "skills = pd.read_csv(\"../Job_Postings_Data_2023_24/mappings/skills.csv\")"
   ]
  },
  {
   "cell_type": "code",
   "execution_count": null,
   "id": "ad469fcf",
   "metadata": {},
   "outputs": [],
   "source": [
    "skills_df = pd.merge(skills_id, skills, on='skill_abr', how='left')"
   ]
  },
  {
   "cell_type": "code",
   "execution_count": null,
   "id": "ebd2badf",
   "metadata": {},
   "outputs": [],
   "source": [
    "skills_df.head(2)"
   ]
  },
  {
   "cell_type": "code",
   "execution_count": null,
   "id": "da7c9bd4",
   "metadata": {},
   "outputs": [],
   "source": [
    "skills_grouped_df = skills_df.groupby('job_id')['skill_name'].agg(', '.join).reset_index()"
   ]
  },
  {
   "cell_type": "code",
   "execution_count": null,
   "id": "b013c478",
   "metadata": {},
   "outputs": [],
   "source": [
    "skills_grouped_df.head(2)"
   ]
  },
  {
   "cell_type": "code",
   "execution_count": null,
   "id": "9a9ef4c8",
   "metadata": {},
   "outputs": [],
   "source": []
  }
 ],
 "metadata": {
  "kernelspec": {
   "display_name": "Python 3 (ipykernel)",
   "language": "python",
   "name": "python3"
  },
  "language_info": {
   "codemirror_mode": {
    "name": "ipython",
    "version": 3
   },
   "file_extension": ".py",
   "mimetype": "text/x-python",
   "name": "python",
   "nbconvert_exporter": "python",
   "pygments_lexer": "ipython3",
   "version": "3.9.5"
  }
 },
 "nbformat": 4,
 "nbformat_minor": 5
}
