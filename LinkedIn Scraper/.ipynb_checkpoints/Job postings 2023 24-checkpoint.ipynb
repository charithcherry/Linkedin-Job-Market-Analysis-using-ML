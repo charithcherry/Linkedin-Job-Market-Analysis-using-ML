{
 "cells": [
  {
   "cell_type": "code",
   "execution_count": null,
   "id": "f2f44a12",
   "metadata": {},
   "outputs": [],
   "source": [
    "import pandas as pd\n",
    "import datetime\n",
    "import numpy as np\n",
    "# Testing"
   ]
  },
  {
   "cell_type": "markdown",
   "id": "18abf3e8",
   "metadata": {},
   "source": [
    "# Linkedin Data from Kaggle"
   ]
  },
  {
   "cell_type": "code",
   "execution_count": null,
   "id": "7fb308df",
   "metadata": {},
   "outputs": [],
   "source": [
    "data = pd.read_csv(\"job postings 2023 24/postings.csv\")"
   ]
  },
  {
   "cell_type": "code",
   "execution_count": null,
   "id": "6ccca3c8",
   "metadata": {},
   "outputs": [],
   "source": [
    "data.columns"
   ]
  },
  {
   "cell_type": "code",
   "execution_count": null,
   "id": "ee0967ff",
   "metadata": {},
   "outputs": [],
   "source": [
    "def convert_unix_to_ddmmyyyy(unix_time):\n",
    "    # Convert from milliseconds to seconds\n",
    "    unix_time_seconds = unix_time / 1000.0\n",
    "    \n",
    "    # Convert to datetime and handle errors\n",
    "    formatted_dates = pd.to_datetime(unix_time_seconds, unit='s', errors='coerce')\n",
    "    \n",
    "    # Format as 'dd-mm-yyyy'\n",
    "    return formatted_dates.dt.strftime('%d-%m-%Y')"
   ]
  },
  {
   "cell_type": "code",
   "execution_count": null,
   "id": "c1cbc863",
   "metadata": {},
   "outputs": [],
   "source": [
    "raw_data = data.copy()"
   ]
  },
  {
   "cell_type": "code",
   "execution_count": null,
   "id": "229a241f",
   "metadata": {},
   "outputs": [],
   "source": [
    "raw_data['original_listed_time_mod'] = convert_unix_to_ddmmyyyy(raw_data['original_listed_time'])"
   ]
  },
  {
   "cell_type": "code",
   "execution_count": null,
   "id": "231085eb",
   "metadata": {},
   "outputs": [],
   "source": [
    "raw_data['original_listed_time_mod'] =pd.to_datetime(raw_data['original_listed_time_mod'], format='%d-%m-%Y', errors='coerce')"
   ]
  },
  {
   "cell_type": "code",
   "execution_count": null,
   "id": "4b9775bd",
   "metadata": {},
   "outputs": [],
   "source": [
    "raw_data['original_listed_time_mod'].min()"
   ]
  },
  {
   "cell_type": "code",
   "execution_count": null,
   "id": "4bdf870e",
   "metadata": {},
   "outputs": [],
   "source": [
    "raw_data['original_listed_time_mod'].max()"
   ]
  },
  {
   "cell_type": "markdown",
   "id": "61667a47",
   "metadata": {},
   "source": [
    "# Data Scraped from ScrapingDog API"
   ]
  },
  {
   "cell_type": "code",
   "execution_count": null,
   "id": "0f820b66",
   "metadata": {},
   "outputs": [],
   "source": [
    "import requests\n",
    "\n",
    "def fetch_all_linkedin_jobs(api_key, fields, geoids, pages):\n",
    "    url = \"https://api.scrapingdog.com/linkedinjobs/\"\n",
    "    all_data = []  # Store data from all requests\n",
    "\n",
    "    # Iterate over each combination of field, geoid, and page\n",
    "    for field in fields:\n",
    "        for geoid in geoids:\n",
    "            for page in pages:\n",
    "                params = {\n",
    "                    \"api_key\": api_key,\n",
    "                    \"field\": field,\n",
    "                    \"geoid\": geoid,\n",
    "                    \"page\": page\n",
    "                }\n",
    "                \n",
    "                response = requests.get(url, params=params)\n",
    "                \n",
    "                if response.status_code == 200:\n",
    "                    # Append data from each request to the list\n",
    "                    all_data.extend(response.json())\n",
    "                else:\n",
    "                    print(f\"Request failed for field: {field}, geoid: {geoid}, page: {page} with status code: {response.status_code}\")\n",
    "\n",
    "    return all_data\n",
    "\n",
    "# Usage example\n",
    "api_key = \"671da7467fddaf7ca053001a\"\n",
    "fields = [\"java\", \"data science\", \"machine learning\"]\n",
    "geoids = [\"100293800\",\"103736294\",\"102277331\"]  # NV, Colorado, California\n",
    "pages = [\"1\", \"2\", \"3\"]\n",
    "\n",
    "# data = fetch_all_linkedin_jobs(api_key, fields, geoids, pages)\n",
    "\n"
   ]
  },
  {
   "cell_type": "code",
   "execution_count": null,
   "id": "b1c26cdc",
   "metadata": {},
   "outputs": [],
   "source": [
    "if data:\n",
    "    new_Data = pd.DataFrame(data)\n",
    "    new_Data.to_csv(\"261024_Job_Data.csv\")"
   ]
  },
  {
   "cell_type": "markdown",
   "id": "e10045ce",
   "metadata": {},
   "source": [
    "# Data Preprocessing\n",
    "\n",
    "## Filtering Data\n",
    "\n",
    "Filtering Function Overview\n",
    "The filter_data function dynamically filters a DataFrame based on a specified list of columns and corresponding conditions. This flexibility allows for customized data extraction based on various criteria, such as dates, maximum or minimum values, and frequent items.\n",
    "\n",
    "Function Parameters\n",
    "df (pd.DataFrame): The input DataFrame containing the data you want to filter.\n",
    "\n",
    "columns (list): A list of column names to apply filters on. Each column corresponds to a condition in the conditions list.\n",
    "\n",
    "conditions (list): A list of conditions, where each element is a tuple specifying the operation and the value for filtering. Each tuple matches one of the columns in the columns list.\n"
   ]
  },
  {
   "cell_type": "code",
   "execution_count": 20,
   "id": "ab432a02",
   "metadata": {},
   "outputs": [],
   "source": [
    "import pandas as pd\n",
    "\n",
    "def filter_data(df, columns, conditions):\n",
    "    \"\"\"\n",
    "    Filters a DataFrame based on a list of columns and their conditions.\n",
    "\n",
    "    Parameters:\n",
    "    - df (pd.DataFrame): The input DataFrame to filter.\n",
    "    - columns (list): List of column names to apply filters on.\n",
    "    - conditions (list): List of conditions where each element is a tuple in the format:\n",
    "                         (condition, value), for example ('>', '2024-04-20').\n",
    "                         Each tuple should correspond to a column in the columns list.\n",
    "    \n",
    "    Returns:\n",
    "    - pd.DataFrame: A filtered DataFrame.\n",
    "    \"\"\"\n",
    "    # Loop over each column and its corresponding condition\n",
    "    for column, (condition, value) in zip(columns, conditions):\n",
    "        if condition == '>':\n",
    "            df = df[df[column] > value]\n",
    "        elif condition == '<':\n",
    "            df = df[df[column] < value]\n",
    "        elif condition == '==':\n",
    "            df = df[df[column] == value]\n",
    "        elif condition == '>=':\n",
    "            df = df[df[column] >= value]\n",
    "        elif condition == '<=':\n",
    "            df = df[df[column] <= value]\n",
    "        elif condition == '!=':\n",
    "            df = df[df[column] != value]\n",
    "        elif condition == 'max':\n",
    "            max_value = df[column].max()\n",
    "            df = df[df[column] == max_value]\n",
    "        elif condition == 'min':\n",
    "            min_value = df[column].min()\n",
    "            df = df[df[column] == min_value]\n",
    "        elif condition == 'top_n':\n",
    "            top_n_counts = df[column].value_counts().nlargest(value)\n",
    "            df = df[df[column].isin(top_n_counts.index)]\n",
    "        elif condition == 'top_n':\n",
    "            top_n_counts = df[column].value_counts()#.nlargest(value)\n",
    "            df = df[df[column].isin(top_n_counts.index)]\n",
    "        else:\n",
    "            print(f\"Invalid condition '{condition}' for column '{column}'\")\n",
    "    \n",
    "    return df\n"
   ]
  },
  {
   "cell_type": "markdown",
   "id": "5f2a4400",
   "metadata": {},
   "source": [
    "## Filtering Scraped Data by Date"
   ]
  },
  {
   "cell_type": "code",
   "execution_count": null,
   "id": "66db85ce",
   "metadata": {},
   "outputs": [],
   "source": [
    "# Load the data\n",
    "scraped_data = pd.read_csv(\"C:/Users/DELL/Downloads/261024_Job_Data.csv\")\n",
    "\n",
    "# Convert date column to datetime if filtering by date\n",
    "scraped_data['job_posting_date'] = pd.to_datetime(scraped_data['job_posting_date'], errors='coerce')\n",
    "\n",
    "# Specify columns and conditions\n",
    "columns = ['job_posting_date']\n",
    "conditions = [('>', '2024-04-20')]\n",
    "\n",
    "# Apply the filter function\n",
    "filtered_scraped_data = filter_data(scraped_data, columns, conditions)\n",
    "\n",
    "# Save the filtered data\n",
    "filtered_scraped_data.to_csv(\"filtered_scraped_job_data.csv\", index=False)\n",
    "\n",
    "# Print the filtered data\n",
    "print(filtered_scraped_data)"
   ]
  },
  {
   "cell_type": "markdown",
   "id": "c33554ef-65be-45e6-bc67-bfeec59a3e92",
   "metadata": {},
   "source": [
    "## Filtering Current Kaggle Data to check top N job positions"
   ]
  },
  {
   "cell_type": "code",
   "execution_count": 4,
   "id": "8f7d0974-f47c-4c8d-b5ad-29c3f2c24360",
   "metadata": {},
   "outputs": [],
   "source": [
    "import pandas as pd\n",
    "kaggledata = pd.read_csv(\"job postings 2023 24/postings.csv\")\n"
   ]
  },
  {
   "cell_type": "code",
   "execution_count": 26,
   "id": "d97b4ef0-d4db-4951-a303-cf52c5848893",
   "metadata": {},
   "outputs": [
    {
     "name": "stdout",
     "output_type": "stream",
     "text": [
      "            job_id                                       company_name  \\\n",
      "19       115639136                                  Shannon Waltchack   \n",
      "22       133130219                                                NaN   \n",
      "26       175485704                                               GOYT   \n",
      "30       229924287  REquipment Durable Medical Equipment and Assis...   \n",
      "33       258868844                                               ABME   \n",
      "...            ...                                                ...   \n",
      "123802  3906263304                                     Synectics Inc.   \n",
      "123811  3906264238                               CORA Health Services   \n",
      "123828  3906265264                                    Theoria Medical   \n",
      "123833  3906265319                                      pepperl+fuchs   \n",
      "123847  3906267195                    Trelleborg Applied Technologies   \n",
      "\n",
      "                               title  \\\n",
      "19                        Controller   \n",
      "22                 Software Engineer   \n",
      "26                 Software Engineer   \n",
      "30          Administrative Assistant   \n",
      "33                       Salesperson   \n",
      "...                              ...   \n",
      "123802                  Phlebotomist   \n",
      "123811            Physical Therapist   \n",
      "123828            Nurse Practitioner   \n",
      "123833               Account Manager   \n",
      "123847  Business Development Manager   \n",
      "\n",
      "                                              description  max_salary  \\\n",
      "19      WORK @ SWShannon Waltchack (SW) is seeking a C...         NaN   \n",
      "22      Education Bachelor's degree in software, math,...         NaN   \n",
      "26      Job Description:GOYT is seeking a skilled and ...         NaN   \n",
      "30      The Administrative Assistant will organize and...         NaN   \n",
      "33      ABME, a leader in corporate event planning, is...         NaN   \n",
      "...                                                   ...         ...   \n",
      "123802  Description\\n\\nRepresents the face of our comp...         NaN   \n",
      "123811  Physical TherapistGet your career – and your p...         NaN   \n",
      "123828  Position Type: Full-time, exempt\\n\\nCompensati...         NaN   \n",
      "123833  Are you looking for a career that allows you t...         NaN   \n",
      "123847  The Business Development Manager is a 'hunter'...         NaN   \n",
      "\n",
      "       pay_period                       location  company_id  views  \\\n",
      "19            NaN                 Birmingham, AL    988555.0   61.0   \n",
      "22            NaN  Los Angeles Metropolitan Area         NaN    1.0   \n",
      "26            NaN                     Denver, CO  76987056.0  273.0   \n",
      "30         HOURLY                     Woburn, MA  14773918.0    3.0   \n",
      "33            NaN                  United States  11008179.0    4.0   \n",
      "...           ...                            ...         ...    ...   \n",
      "123802        NaN                      Ridge, KS    413796.0    2.0   \n",
      "123811        NaN                      Doral, FL  59103641.0    2.0   \n",
      "123828        NaN                 Boyne City, MI  51664810.0    2.0   \n",
      "123833        NaN                  Milwaukee, WI   1120218.0    1.0   \n",
      "123847        NaN           Texas, United States   2793699.0    4.0   \n",
      "\n",
      "        med_salary  ...                                        skills_desc  \\\n",
      "19             NaN  ...  Strong interpersonal communication skills and ...   \n",
      "22             NaN  ...                                                NaN   \n",
      "26             NaN  ...                                                NaN   \n",
      "30            23.0  ...                                                NaN   \n",
      "33             NaN  ...                                                NaN   \n",
      "...            ...  ...                                                ...   \n",
      "123802         NaN  ...                                                NaN   \n",
      "123811         NaN  ...                                                NaN   \n",
      "123828         NaN  ...                                                NaN   \n",
      "123833         NaN  ...                                                NaN   \n",
      "123847         NaN  ...                                                NaN   \n",
      "\n",
      "         listed_time        posting_domain  sponsored  work_type currency  \\\n",
      "19      1.713210e+12                   NaN          0  FULL_TIME      NaN   \n",
      "22      1.713535e+12                   NaN          0  FULL_TIME      NaN   \n",
      "26      1.713281e+12                   NaN          0  PART_TIME      NaN   \n",
      "30      1.713550e+12                   NaN          0  PART_TIME      USD   \n",
      "33      1.713470e+12                   NaN          0  FULL_TIME      NaN   \n",
      "...              ...                   ...        ...        ...      ...   \n",
      "123802  1.713572e+12     www.synectics.com          0   CONTRACT      NaN   \n",
      "123811  1.713571e+12                   NaN          0  FULL_TIME      NaN   \n",
      "123828  1.713572e+12  boards.greenhouse.io          0  FULL_TIME      NaN   \n",
      "123833  1.713572e+12                   NaN          0  FULL_TIME      NaN   \n",
      "123847  1.713573e+12                   NaN          0  FULL_TIME      NaN   \n",
      "\n",
      "       compensation_type normalized_salary  zip_code     fips  \n",
      "19                   NaN               NaN   35203.0   1073.0  \n",
      "22                   NaN               NaN       NaN      NaN  \n",
      "26                   NaN               NaN   80202.0   8031.0  \n",
      "30           BASE_SALARY           47840.0    1801.0  25017.0  \n",
      "33                   NaN               NaN       NaN      NaN  \n",
      "...                  ...               ...       ...      ...  \n",
      "123802               NaN               NaN   67023.0  20035.0  \n",
      "123811               NaN               NaN   32757.0  12069.0  \n",
      "123828               NaN               NaN   49712.0  26029.0  \n",
      "123833               NaN               NaN   53202.0  55079.0  \n",
      "123847               NaN               NaN       NaN      NaN  \n",
      "\n",
      "[8306 rows x 31 columns]\n"
     ]
    }
   ],
   "source": [
    "def filter_top_n_values(df, column, n):\n",
    "    # Get the top n most frequent values in the specified column\n",
    "    top_n_values = df[column].value_counts()#.nlargest(n)\n",
    "    return top_n_values\n",
    "columns = ['title']\n",
    "conditions = [('top_n',50)]\n",
    "top_15_job_roles = filter_data(kaggledata, columns, conditions)\n",
    "\n",
    "print(top_15_job_roles)"
   ]
  },
  {
   "cell_type": "code",
   "execution_count": 27,
   "id": "5283f025-29ad-4f02-8269-34800a75afd2",
   "metadata": {},
   "outputs": [
    {
     "data": {
      "text/plain": [
       "array(['Controller', 'Software Engineer', 'Administrative Assistant',\n",
       "       'Salesperson', 'Registered Nurse', 'Associate Attorney',\n",
       "       'Sales Representative', 'Customer Service Representative',\n",
       "       'Staff Accountant', 'Executive Assistant', 'Project Engineer',\n",
       "       'Project Manager', 'Account Manager', 'Senior Software Engineer',\n",
       "       'Receptionist', 'Medical Assistant', 'Nurse Practitioner',\n",
       "       'Accountant', 'Data Analyst', 'Accounting Manager',\n",
       "       'Sales Associate', 'Sales Specialist', 'Sales Executive',\n",
       "       'Operations Manager', 'Account Executive', 'Warehouse Associate',\n",
       "       'Electrical Engineer', 'General Manager', 'Service Technician',\n",
       "       'Physical Therapist', 'Business Development Manager',\n",
       "       'Senior Accountant', 'Assistant Manager', 'Maintenance Technician',\n",
       "       'Manufacturing Engineer', 'Store Manager', 'Financial Analyst',\n",
       "       'Business Analyst', 'Retail Sales Associate', 'Sales Manager',\n",
       "       'Assistant Store Manager',\n",
       "       'Package Handler - Part Time (Warehouse like)',\n",
       "       'Inside Sales Representative', 'Outside Sales Representative',\n",
       "       'Phlebotomist', 'Patient Care Technician',\n",
       "       'OPERATIONS ASSISTANT MANAGER', 'ASSISTANT STORE MANAGER',\n",
       "       'CUSTOMER SERVICE REPRESENTATIVE', 'Registered Nurse - RN - LTAC'],\n",
       "      dtype=object)"
      ]
     },
     "execution_count": 27,
     "metadata": {},
     "output_type": "execute_result"
    }
   ],
   "source": [
    "top_15_job_roles['title'].unique()"
   ]
  },
  {
   "cell_type": "markdown",
   "id": "96a11c2f-a5cc-41d0-baa2-e47f2338d96e",
   "metadata": {},
   "source": [
    "## Data cube"
   ]
  },
  {
   "cell_type": "code",
   "execution_count": 5,
   "id": "6bec2ae9-c6dc-4b44-b5bc-c60384258da5",
   "metadata": {},
   "outputs": [
    {
     "name": "stdout",
     "output_type": "stream",
     "text": [
      "Data Cube:\n",
      "                    location                    company_name  \\\n",
      "0                 Abbott, TX                      TEKsystems   \n",
      "1                Abilene, TX  International Rescue Committee   \n",
      "2                Abilene, TX                         J. Galt   \n",
      "3                Addison, TX                        Acrisure   \n",
      "4                Addison, TX                       CBase Inc   \n",
      "...                      ...                             ...   \n",
      "9567  Youngstown-Warren area                         J. Galt   \n",
      "9568           Ypsilanti, MI                      BetterHelp   \n",
      "9569           Yuba City, CA                         J. Galt   \n",
      "9570               Yukon, OK                      BetterHelp   \n",
      "9571                Yuma, AZ                         J. Galt   \n",
      "\n",
      "                                                  title formatted_work_type  \\\n",
      "0                                     Armis/OT Engineer           Full-time   \n",
      "1                English Language Instruction Case Aide           Part-time   \n",
      "2                                         Sales Manager           Full-time   \n",
      "3     Remote Commercial Marketing Account Manager (I...           Full-time   \n",
      "4     Software Quality Analyst - Mobile QA @ Addison...            Contract   \n",
      "...                                                 ...                 ...   \n",
      "9567                                      Sales Manager           Full-time   \n",
      "9568           Licensed Therapist for Online Counseling           Full-time   \n",
      "9569                                      Sales Manager           Full-time   \n",
      "9570           Licensed Therapist for Online Counseling           Full-time   \n",
      "9571                                      Sales Manager           Full-time   \n",
      "\n",
      "      remote_allowed formatted_experience_level  applies  max_salary  \\\n",
      "0                1.0                Entry level      0.0         NaN   \n",
      "1                1.0                Entry level      0.0         NaN   \n",
      "2                1.0           Mid-Senior level      0.0         NaN   \n",
      "3                1.0                Entry level      0.0         NaN   \n",
      "4                1.0           Mid-Senior level     45.0         NaN   \n",
      "...              ...                        ...      ...         ...   \n",
      "9567             1.0           Mid-Senior level      0.0         NaN   \n",
      "9568             1.0                Entry level      0.0         NaN   \n",
      "9569             1.0           Mid-Senior level      0.0         NaN   \n",
      "9570             1.0                Entry level      0.0         NaN   \n",
      "9571             1.0           Mid-Senior level      0.0         NaN   \n",
      "\n",
      "      med_salary  min_salary  normalized_salary  views  \n",
      "0            NaN         NaN                NaN    3.0  \n",
      "1            NaN         NaN                NaN    5.0  \n",
      "2            NaN         NaN                NaN    4.0  \n",
      "3            NaN         NaN                NaN    4.0  \n",
      "4            NaN         NaN                NaN  119.0  \n",
      "...          ...         ...                ...    ...  \n",
      "9567         NaN         NaN                NaN    2.0  \n",
      "9568         NaN         NaN                NaN    0.0  \n",
      "9569         NaN         NaN                NaN   10.0  \n",
      "9570         NaN         NaN                NaN    0.0  \n",
      "9571         NaN         NaN                NaN    6.0  \n",
      "\n",
      "[9572 rows x 12 columns]\n"
     ]
    }
   ],
   "source": [
    "data_cube = kaggledata.pivot_table(\n",
    "    values=[\n",
    "        'med_salary', 'max_salary', 'min_salary', 'views', 'applies', 'normalized_salary'\n",
    "    ],\n",
    "    index=[\n",
    "        'location', 'company_name', 'title', 'formatted_work_type', 'remote_allowed', 'formatted_experience_level'\n",
    "    ],\n",
    "    aggfunc={\n",
    "        'med_salary': 'mean',           # Average median salary\n",
    "        'max_salary': 'max',            # Maximum salary\n",
    "        'min_salary': 'min',            # Minimum salary\n",
    "        'views': 'sum',                 # Total views\n",
    "        'applies': 'sum',               # Total applications\n",
    "        'normalized_salary': 'mean'     # Average normalized salary\n",
    "    }\n",
    ").reset_index()\n",
    "\n",
    "# Display the resulting data cube\n",
    "print(\"Data Cube:\")\n",
    "print(data_cube)\n",
    "\n",
    "# Optional: Save to CSV for further analysis\n",
    "data_cube.to_csv('job_data_cube.csv', index=False)"
   ]
  },
  {
   "cell_type": "markdown",
   "id": "51e22f7a-8495-4804-9990-65eab6fc33fa",
   "metadata": {},
   "source": [
    "## Dynamic data cube"
   ]
  },
  {
   "cell_type": "code",
   "execution_count": 6,
   "id": "b0131eab-d2dd-4106-865d-7679d0721b14",
   "metadata": {},
   "outputs": [],
   "source": [
    "def dynamic_data_cube(df, company_name=None, title=None, location=None, work_type=None):\n",
    "    filtered_df = df.copy()\n",
    "    \n",
    "    # Apply filters based on user input\n",
    "    if company_name:\n",
    "        filtered_df = filtered_df[filtered_df['company_name'] == company_name]\n",
    "    if title:\n",
    "        filtered_df = filtered_df[filtered_df['title'] == title]\n",
    "    if location:\n",
    "        filtered_df = filtered_df[filtered_df['location'] == location]\n",
    "    if work_type:\n",
    "        filtered_df = filtered_df[filtered_df['formatted_work_type'] == work_type]\n",
    "    \n",
    "    # Check if filtered DataFrame is not empty\n",
    "    if filtered_df.empty:\n",
    "        return \"No data found for the specified filters.\"\n",
    "    \n",
    "    # Aggregate metrics for the filtered data\n",
    "    result = {\n",
    "        'Total Job Listings': len(filtered_df),\n",
    "        'Max Salary': filtered_df['max_salary'].max(),\n",
    "        'Min Salary': filtered_df['min_salary'].min(),\n",
    "        'Average Median Salary': filtered_df['med_salary'].mean(),\n",
    "        'Total Views': filtered_df['views'].sum(),\n",
    "        'Total Applications': filtered_df['applies'].sum(),\n",
    "        'Average Normalized Salary': filtered_df['normalized_salary'].mean()\n",
    "    }\n",
    "    \n",
    "    return result\n"
   ]
  },
  {
   "cell_type": "code",
   "execution_count": 7,
   "id": "74843968-e7ac-4385-9ffc-f25363af85d9",
   "metadata": {},
   "outputs": [
    {
     "name": "stdout",
     "output_type": "stream",
     "text": [
      "{'Total Job Listings': 57, 'Max Salary': np.float64(316900.0), 'Min Salary': np.float64(69960.0), 'Average Median Salary': np.float64(313100.0), 'Total Views': np.float64(914.0), 'Total Applications': np.float64(95.0), 'Average Normalized Salary': np.float64(187002.08333333334)}\n"
     ]
    }
   ],
   "source": [
    "print(dynamic_data_cube(kaggledata, company_name=\"ServiceNow\"))"
   ]
  },
  {
   "cell_type": "code",
   "execution_count": 8,
   "id": "d45d686e-c9e4-40b6-a530-20bbe1520eea",
   "metadata": {},
   "outputs": [
    {
     "name": "stdout",
     "output_type": "stream",
     "text": [
      "{'Total Job Listings': 7, 'Max Salary': np.float64(125000.0), 'Min Salary': np.float64(110000.0), 'Average Median Salary': nan, 'Total Views': np.float64(123.0), 'Total Applications': np.float64(40.0), 'Average Normalized Salary': np.float64(117500.0)}\n"
     ]
    }
   ],
   "source": [
    "print(dynamic_data_cube(kaggledata, title=\"Full Stack Java Developer\"))"
   ]
  },
  {
   "cell_type": "code",
   "execution_count": null,
   "id": "0736d63c-9bca-43ff-94a9-35b595ad2057",
   "metadata": {},
   "outputs": [],
   "source": []
  }
 ],
 "metadata": {
  "kernelspec": {
   "display_name": "Python 3 (ipykernel)",
   "language": "python",
   "name": "python3"
  },
  "language_info": {
   "codemirror_mode": {
    "name": "ipython",
    "version": 3
   },
   "file_extension": ".py",
   "mimetype": "text/x-python",
   "name": "python",
   "nbconvert_exporter": "python",
   "pygments_lexer": "ipython3",
   "version": "3.9.5"
  }
 },
 "nbformat": 4,
 "nbformat_minor": 5
}
