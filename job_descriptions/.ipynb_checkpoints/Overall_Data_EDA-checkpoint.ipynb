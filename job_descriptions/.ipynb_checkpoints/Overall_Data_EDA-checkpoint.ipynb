{
 "cells": [
  {
   "cell_type": "code",
   "execution_count": 26,
   "id": "dcdadc05",
   "metadata": {},
   "outputs": [],
   "source": [
    "import pandas as pd"
   ]
  },
  {
   "cell_type": "code",
   "execution_count": 27,
   "id": "2aa8d74b",
   "metadata": {},
   "outputs": [],
   "source": [
    "data= pd.read_csv(\"job_descriptions.csv\")"
   ]
  },
  {
   "cell_type": "code",
   "execution_count": 28,
   "id": "24a14fcf",
   "metadata": {},
   "outputs": [
    {
     "data": {
      "text/plain": [
       "array(['Snagajob', 'Idealist', 'Jobs2Careers', 'FlexJobs', 'Indeed',\n",
       "       'Stack Overflow Jobs', 'Glassdoor', 'USAJOBS', 'SimplyHired',\n",
       "       'Internships.com', 'The Muse', 'Dice', 'CareerBuilder', 'Monster',\n",
       "       'ZipRecruiter', 'LinkedIn'], dtype=object)"
      ]
     },
     "execution_count": 28,
     "metadata": {},
     "output_type": "execute_result"
    }
   ],
   "source": [
    "data['Job Portal'].unique()"
   ]
  },
  {
   "cell_type": "code",
   "execution_count": 29,
   "id": "2cee09af",
   "metadata": {},
   "outputs": [],
   "source": [
    "data['Job Posting Date'] = pd.to_datetime(data['Job Posting Date'])\n",
    "\n",
    "data_US = data[data['Country']=='USA']\n",
    "data_US =data[ data['Job Portal']=='LinkedIn']"
   ]
  },
  {
   "cell_type": "code",
   "execution_count": 32,
   "id": "73aae5ef",
   "metadata": {},
   "outputs": [
    {
     "name": "stdout",
     "output_type": "stream",
     "text": [
      "<class 'pandas.core.frame.DataFrame'>\n",
      "Index: 64664 entries, 92 to 1615882\n",
      "Data columns (total 23 columns):\n",
      " #   Column            Non-Null Count  Dtype         \n",
      "---  ------            --------------  -----         \n",
      " 0   Job Id            64664 non-null  int64         \n",
      " 1   Experience        64664 non-null  object        \n",
      " 2   Qualifications    64664 non-null  object        \n",
      " 3   Salary Range      64664 non-null  object        \n",
      " 4   location          64664 non-null  object        \n",
      " 5   Country           64664 non-null  object        \n",
      " 6   latitude          64664 non-null  float64       \n",
      " 7   longitude         64664 non-null  float64       \n",
      " 8   Work Type         64664 non-null  object        \n",
      " 9   Company Size      64664 non-null  int64         \n",
      " 10  Job Posting Date  64664 non-null  datetime64[ns]\n",
      " 11  Preference        64664 non-null  object        \n",
      " 12  Contact Person    64664 non-null  object        \n",
      " 13  Contact           64664 non-null  object        \n",
      " 14  Job Title         64664 non-null  object        \n",
      " 15  Role              64664 non-null  object        \n",
      " 16  Job Portal        64664 non-null  object        \n",
      " 17  Job Description   64664 non-null  object        \n",
      " 18  Benefits          64664 non-null  object        \n",
      " 19  skills            64664 non-null  object        \n",
      " 20  Responsibilities  64664 non-null  object        \n",
      " 21  Company           64664 non-null  object        \n",
      " 22  Company Profile   64442 non-null  object        \n",
      "dtypes: datetime64[ns](1), float64(2), int64(2), object(18)\n",
      "memory usage: 11.8+ MB\n"
     ]
    }
   ],
   "source": [
    "data_US.info()"
   ]
  },
  {
   "cell_type": "code",
   "execution_count": 30,
   "id": "8a803cc6",
   "metadata": {},
   "outputs": [],
   "source": [
    "data_US.to_csv(\"historical_data.csv\")"
   ]
  },
  {
   "cell_type": "code",
   "execution_count": 23,
   "id": "f50d0ccd",
   "metadata": {},
   "outputs": [
    {
     "name": "stderr",
     "output_type": "stream",
     "text": [
      "C:\\Users\\chari\\AppData\\Local\\Temp\\ipykernel_33408\\3313344158.py:8: SettingWithCopyWarning:\n",
      "\n",
      "\n",
      "A value is trying to be set on a copy of a slice from a DataFrame.\n",
      "Try using .loc[row_indexer,col_indexer] = value instead\n",
      "\n",
      "See the caveats in the documentation: https://pandas.pydata.org/pandas-docs/stable/user_guide/indexing.html#returning-a-view-versus-a-copy\n",
      "\n",
      "C:\\Users\\chari\\AppData\\Local\\Temp\\ipykernel_33408\\3313344158.py:9: SettingWithCopyWarning:\n",
      "\n",
      "\n",
      "A value is trying to be set on a copy of a slice from a DataFrame.\n",
      "Try using .loc[row_indexer,col_indexer] = value instead\n",
      "\n",
      "See the caveats in the documentation: https://pandas.pydata.org/pandas-docs/stable/user_guide/indexing.html#returning-a-view-versus-a-copy\n",
      "\n",
      "C:\\Users\\chari\\AppData\\Local\\Temp\\ipykernel_33408\\3313344158.py:19: SettingWithCopyWarning:\n",
      "\n",
      "\n",
      "A value is trying to be set on a copy of a slice from a DataFrame.\n",
      "Try using .loc[row_indexer,col_indexer] = value instead\n",
      "\n",
      "See the caveats in the documentation: https://pandas.pydata.org/pandas-docs/stable/user_guide/indexing.html#returning-a-view-versus-a-copy\n",
      "\n"
     ]
    },
    {
     "data": {
      "application/vnd.plotly.v1+json": {
       "config": {
        "plotlyServerURL": "https://plot.ly"
       },
       "data": [
        {
         "hovertemplate": "Month-Year=9<br>year=2021<br>Week of Month=%{x}<br>Number of Job Postings=%{y}<extra></extra>",
         "legendgroup": "9, 2021",
         "line": {
          "color": "#636efa",
          "dash": "solid"
         },
         "mode": "lines",
         "name": "9, 2021",
         "orientation": "v",
         "showlegend": true,
         "type": "scatter",
         "visible": true,
         "x": [
          3,
          4
         ],
         "xaxis": "x",
         "y": [
          472,
          1033
         ],
         "yaxis": "y"
        },
        {
         "hovertemplate": "Month-Year=9<br>year=2022<br>Week of Month=%{x}<br>Number of Job Postings=%{y}<extra></extra>",
         "legendgroup": "9, 2022",
         "line": {
          "color": "#636efa",
          "dash": "dot"
         },
         "mode": "lines",
         "name": "9, 2022",
         "orientation": "v",
         "showlegend": true,
         "type": "scatter",
         "visible": true,
         "x": [
          1,
          2,
          3,
          4
         ],
         "xaxis": "x",
         "y": [
          349,
          621,
          617,
          1067
         ],
         "yaxis": "y"
        },
        {
         "hovertemplate": "Month-Year=9<br>year=2023<br>Week of Month=%{x}<br>Number of Job Postings=%{y}<extra></extra>",
         "legendgroup": "9, 2023",
         "line": {
          "color": "#636efa",
          "dash": "dash"
         },
         "mode": "lines",
         "name": "9, 2023",
         "orientation": "v",
         "showlegend": true,
         "type": "scatter",
         "visible": true,
         "x": [
          1,
          2,
          3
         ],
         "xaxis": "x",
         "y": [
          259,
          647,
          452
         ],
         "yaxis": "y"
        },
        {
         "hovertemplate": "Month-Year=10<br>year=2021<br>Week of Month=%{x}<br>Number of Job Postings=%{y}<extra></extra>",
         "legendgroup": "10, 2021",
         "line": {
          "color": "#EF553B",
          "dash": "solid"
         },
         "mode": "lines",
         "name": "10, 2021",
         "orientation": "v",
         "showlegend": true,
         "type": "scatter",
         "visible": false,
         "x": [
          1,
          2,
          3,
          4
         ],
         "xaxis": "x",
         "y": [
          272,
          601,
          599,
          1166
         ],
         "yaxis": "y"
        },
        {
         "hovertemplate": "Month-Year=10<br>year=2022<br>Week of Month=%{x}<br>Number of Job Postings=%{y}<extra></extra>",
         "legendgroup": "10, 2022",
         "line": {
          "color": "#EF553B",
          "dash": "dot"
         },
         "mode": "lines",
         "name": "10, 2022",
         "orientation": "v",
         "showlegend": true,
         "type": "scatter",
         "visible": false,
         "x": [
          1,
          2,
          3,
          4
         ],
         "xaxis": "x",
         "y": [
          208,
          633,
          621,
          1260
         ],
         "yaxis": "y"
        },
        {
         "hovertemplate": "Month-Year=11<br>year=2021<br>Week of Month=%{x}<br>Number of Job Postings=%{y}<extra></extra>",
         "legendgroup": "11, 2021",
         "line": {
          "color": "#00cc96",
          "dash": "solid"
         },
         "mode": "lines",
         "name": "11, 2021",
         "orientation": "v",
         "showlegend": true,
         "type": "scatter",
         "visible": false,
         "x": [
          1,
          2,
          3,
          4
         ],
         "xaxis": "x",
         "y": [
          653,
          572,
          614,
          809
         ],
         "yaxis": "y"
        },
        {
         "hovertemplate": "Month-Year=11<br>year=2022<br>Week of Month=%{x}<br>Number of Job Postings=%{y}<extra></extra>",
         "legendgroup": "11, 2022",
         "line": {
          "color": "#00cc96",
          "dash": "dot"
         },
         "mode": "lines",
         "name": "11, 2022",
         "orientation": "v",
         "showlegend": true,
         "type": "scatter",
         "visible": false,
         "x": [
          1,
          2,
          3,
          4
         ],
         "xaxis": "x",
         "y": [
          590,
          649,
          581,
          915
         ],
         "yaxis": "y"
        },
        {
         "hovertemplate": "Month-Year=12<br>year=2021<br>Week of Month=%{x}<br>Number of Job Postings=%{y}<extra></extra>",
         "legendgroup": "12, 2021",
         "line": {
          "color": "#ab63fa",
          "dash": "solid"
         },
         "mode": "lines",
         "name": "12, 2021",
         "orientation": "v",
         "showlegend": true,
         "type": "scatter",
         "visible": false,
         "x": [
          1,
          2,
          3,
          4
         ],
         "xaxis": "x",
         "y": [
          426,
          606,
          651,
          1048
         ],
         "yaxis": "y"
        },
        {
         "hovertemplate": "Month-Year=12<br>year=2022<br>Week of Month=%{x}<br>Number of Job Postings=%{y}<extra></extra>",
         "legendgroup": "12, 2022",
         "line": {
          "color": "#ab63fa",
          "dash": "dot"
         },
         "mode": "lines",
         "name": "12, 2022",
         "orientation": "v",
         "showlegend": true,
         "type": "scatter",
         "visible": false,
         "x": [
          1,
          2,
          3,
          4
         ],
         "xaxis": "x",
         "y": [
          352,
          657,
          612,
          1203
         ],
         "yaxis": "y"
        },
        {
         "hovertemplate": "Month-Year=1<br>year=2022<br>Week of Month=%{x}<br>Number of Job Postings=%{y}<extra></extra>",
         "legendgroup": "1, 2022",
         "line": {
          "color": "#FFA15A",
          "dash": "dot"
         },
         "mode": "lines",
         "name": "1, 2022",
         "orientation": "v",
         "showlegend": true,
         "type": "scatter",
         "visible": false,
         "x": [
          1,
          2,
          3,
          4
         ],
         "xaxis": "x",
         "y": [
          185,
          645,
          600,
          1310
         ],
         "yaxis": "y"
        },
        {
         "hovertemplate": "Month-Year=1<br>year=2023<br>Week of Month=%{x}<br>Number of Job Postings=%{y}<extra></extra>",
         "legendgroup": "1, 2023",
         "line": {
          "color": "#FFA15A",
          "dash": "dash"
         },
         "mode": "lines",
         "name": "1, 2023",
         "orientation": "v",
         "showlegend": true,
         "type": "scatter",
         "visible": false,
         "x": [
          1,
          2,
          3,
          4
         ],
         "xaxis": "x",
         "y": [
          81,
          606,
          645,
          1421
         ],
         "yaxis": "y"
        },
        {
         "hovertemplate": "Month-Year=2<br>year=2022<br>Week of Month=%{x}<br>Number of Job Postings=%{y}<extra></extra>",
         "legendgroup": "2, 2022",
         "line": {
          "color": "#19d3f3",
          "dash": "dot"
         },
         "mode": "lines",
         "name": "2, 2022",
         "orientation": "v",
         "showlegend": true,
         "type": "scatter",
         "visible": false,
         "x": [
          1,
          2,
          3,
          4
         ],
         "xaxis": "x",
         "y": [
          513,
          575,
          649,
          746
         ],
         "yaxis": "y"
        },
        {
         "hovertemplate": "Month-Year=2<br>year=2023<br>Week of Month=%{x}<br>Number of Job Postings=%{y}<extra></extra>",
         "legendgroup": "2, 2023",
         "line": {
          "color": "#19d3f3",
          "dash": "dash"
         },
         "mode": "lines",
         "name": "2, 2023",
         "orientation": "v",
         "showlegend": true,
         "type": "scatter",
         "visible": false,
         "x": [
          1,
          2,
          3,
          4
         ],
         "xaxis": "x",
         "y": [
          456,
          662,
          597,
          811
         ],
         "yaxis": "y"
        },
        {
         "hovertemplate": "Month-Year=3<br>year=2022<br>Week of Month=%{x}<br>Number of Job Postings=%{y}<extra></extra>",
         "legendgroup": "3, 2022",
         "line": {
          "color": "#FF6692",
          "dash": "dot"
         },
         "mode": "lines",
         "name": "3, 2022",
         "orientation": "v",
         "showlegend": true,
         "type": "scatter",
         "visible": false,
         "x": [
          1,
          2,
          3,
          4
         ],
         "xaxis": "x",
         "y": [
          530,
          639,
          637,
          1002
         ],
         "yaxis": "y"
        },
        {
         "hovertemplate": "Month-Year=3<br>year=2023<br>Week of Month=%{x}<br>Number of Job Postings=%{y}<extra></extra>",
         "legendgroup": "3, 2023",
         "line": {
          "color": "#FF6692",
          "dash": "dash"
         },
         "mode": "lines",
         "name": "3, 2023",
         "orientation": "v",
         "showlegend": true,
         "type": "scatter",
         "visible": false,
         "x": [
          1,
          2,
          3,
          4
         ],
         "xaxis": "x",
         "y": [
          441,
          595,
          615,
          1049
         ],
         "yaxis": "y"
        },
        {
         "hovertemplate": "Month-Year=4<br>year=2022<br>Week of Month=%{x}<br>Number of Job Postings=%{y}<extra></extra>",
         "legendgroup": "4, 2022",
         "line": {
          "color": "#B6E880",
          "dash": "dot"
         },
         "mode": "lines",
         "name": "4, 2022",
         "orientation": "v",
         "showlegend": true,
         "type": "scatter",
         "visible": false,
         "x": [
          1,
          2,
          3,
          4
         ],
         "xaxis": "x",
         "y": [
          262,
          544,
          588,
          1135
         ],
         "yaxis": "y"
        },
        {
         "hovertemplate": "Month-Year=4<br>year=2023<br>Week of Month=%{x}<br>Number of Job Postings=%{y}<extra></extra>",
         "legendgroup": "4, 2023",
         "line": {
          "color": "#B6E880",
          "dash": "dash"
         },
         "mode": "lines",
         "name": "4, 2023",
         "orientation": "v",
         "showlegend": true,
         "type": "scatter",
         "visible": false,
         "x": [
          1,
          2,
          3,
          4
         ],
         "xaxis": "x",
         "y": [
          204,
          598,
          624,
          1227
         ],
         "yaxis": "y"
        },
        {
         "hovertemplate": "Month-Year=5<br>year=2022<br>Week of Month=%{x}<br>Number of Job Postings=%{y}<extra></extra>",
         "legendgroup": "5, 2022",
         "line": {
          "color": "#FF97FF",
          "dash": "dot"
         },
         "mode": "lines",
         "name": "5, 2022",
         "orientation": "v",
         "showlegend": true,
         "type": "scatter",
         "visible": false,
         "x": [
          1,
          2,
          3,
          4
         ],
         "xaxis": "x",
         "y": [
          87,
          603,
          600,
          1384
         ],
         "yaxis": "y"
        },
        {
         "hovertemplate": "Month-Year=5<br>year=2023<br>Week of Month=%{x}<br>Number of Job Postings=%{y}<extra></extra>",
         "legendgroup": "5, 2023",
         "line": {
          "color": "#FF97FF",
          "dash": "dash"
         },
         "mode": "lines",
         "name": "5, 2023",
         "orientation": "v",
         "showlegend": true,
         "type": "scatter",
         "visible": false,
         "x": [
          1,
          2,
          3,
          4
         ],
         "xaxis": "x",
         "y": [
          604,
          582,
          657,
          924
         ],
         "yaxis": "y"
        },
        {
         "hovertemplate": "Month-Year=6<br>year=2022<br>Week of Month=%{x}<br>Number of Job Postings=%{y}<extra></extra>",
         "legendgroup": "6, 2022",
         "line": {
          "color": "#FECB52",
          "dash": "dot"
         },
         "mode": "lines",
         "name": "6, 2022",
         "orientation": "v",
         "showlegend": true,
         "type": "scatter",
         "visible": false,
         "x": [
          1,
          2,
          3,
          4
         ],
         "xaxis": "x",
         "y": [
          442,
          591,
          647,
          981
         ],
         "yaxis": "y"
        },
        {
         "hovertemplate": "Month-Year=6<br>year=2023<br>Week of Month=%{x}<br>Number of Job Postings=%{y}<extra></extra>",
         "legendgroup": "6, 2023",
         "line": {
          "color": "#FECB52",
          "dash": "dash"
         },
         "mode": "lines",
         "name": "6, 2023",
         "orientation": "v",
         "showlegend": true,
         "type": "scatter",
         "visible": false,
         "x": [
          1,
          2,
          3,
          4
         ],
         "xaxis": "x",
         "y": [
          333,
          614,
          589,
          1057
         ],
         "yaxis": "y"
        },
        {
         "hovertemplate": "Month-Year=7<br>year=2022<br>Week of Month=%{x}<br>Number of Job Postings=%{y}<extra></extra>",
         "legendgroup": "7, 2022",
         "line": {
          "color": "#636efa",
          "dash": "dot"
         },
         "mode": "lines",
         "name": "7, 2022",
         "orientation": "v",
         "showlegend": true,
         "type": "scatter",
         "visible": false,
         "x": [
          1,
          2,
          3,
          4
         ],
         "xaxis": "x",
         "y": [
          282,
          650,
          640,
          1245
         ],
         "yaxis": "y"
        },
        {
         "hovertemplate": "Month-Year=7<br>year=2023<br>Week of Month=%{x}<br>Number of Job Postings=%{y}<extra></extra>",
         "legendgroup": "7, 2023",
         "line": {
          "color": "#636efa",
          "dash": "dash"
         },
         "mode": "lines",
         "name": "7, 2023",
         "orientation": "v",
         "showlegend": true,
         "type": "scatter",
         "visible": false,
         "x": [
          1,
          2,
          3,
          4
         ],
         "xaxis": "x",
         "y": [
          163,
          577,
          617,
          1309
         ],
         "yaxis": "y"
        },
        {
         "hovertemplate": "Month-Year=8<br>year=2022<br>Week of Month=%{x}<br>Number of Job Postings=%{y}<extra></extra>",
         "legendgroup": "8, 2022",
         "line": {
          "color": "#EF553B",
          "dash": "dot"
         },
         "mode": "lines",
         "name": "8, 2022",
         "orientation": "v",
         "showlegend": true,
         "type": "scatter",
         "visible": false,
         "x": [
          1,
          2,
          3,
          4
         ],
         "xaxis": "x",
         "y": [
          657,
          634,
          593,
          869
         ],
         "yaxis": "y"
        },
        {
         "hovertemplate": "Month-Year=8<br>year=2023<br>Week of Month=%{x}<br>Number of Job Postings=%{y}<extra></extra>",
         "legendgroup": "8, 2023",
         "line": {
          "color": "#EF553B",
          "dash": "dash"
         },
         "mode": "lines",
         "name": "8, 2023",
         "orientation": "v",
         "showlegend": true,
         "type": "scatter",
         "visible": false,
         "x": [
          1,
          2,
          3,
          4
         ],
         "xaxis": "x",
         "y": [
          507,
          605,
          622,
          992
         ],
         "yaxis": "y"
        },
        {
         "hovertemplate": "Year=2021<br>Month=%{x}<br>Number of Job Postings=%{y}<extra></extra>",
         "legendgroup": "2021",
         "line": {
          "color": "#636efa",
          "dash": "solid"
         },
         "mode": "lines",
         "name": "2021",
         "orientation": "v",
         "showlegend": true,
         "type": "scatter",
         "x": [
          9,
          10,
          11,
          12
         ],
         "xaxis": "x",
         "y": [
          1505,
          2638,
          2648,
          2731
         ],
         "yaxis": "y"
        },
        {
         "hovertemplate": "Year=2022<br>Month=%{x}<br>Number of Job Postings=%{y}<extra></extra>",
         "legendgroup": "2022",
         "line": {
          "color": "#EF553B",
          "dash": "solid"
         },
         "mode": "lines",
         "name": "2022",
         "orientation": "v",
         "showlegend": true,
         "type": "scatter",
         "x": [
          1,
          2,
          3,
          4,
          5,
          6,
          7,
          8,
          9,
          10,
          11,
          12
         ],
         "xaxis": "x",
         "y": [
          2740,
          2483,
          2808,
          2529,
          2674,
          2661,
          2817,
          2753,
          2654,
          2722,
          2735,
          2824
         ],
         "yaxis": "y"
        },
        {
         "hovertemplate": "Year=2023<br>Month=%{x}<br>Number of Job Postings=%{y}<extra></extra>",
         "legendgroup": "2023",
         "line": {
          "color": "#00cc96",
          "dash": "solid"
         },
         "mode": "lines",
         "name": "2023",
         "orientation": "v",
         "showlegend": true,
         "type": "scatter",
         "x": [
          1,
          2,
          3,
          4,
          5,
          6,
          7,
          8,
          9
         ],
         "xaxis": "x",
         "y": [
          2753,
          2526,
          2700,
          2653,
          2767,
          2593,
          2666,
          2726,
          1358
         ],
         "yaxis": "y"
        }
       ],
       "layout": {
        "template": {
         "data": {
          "bar": [
           {
            "error_x": {
             "color": "#2a3f5f"
            },
            "error_y": {
             "color": "#2a3f5f"
            },
            "marker": {
             "line": {
              "color": "#E5ECF6",
              "width": 0.5
             }
            },
            "type": "bar"
           }
          ],
          "barpolar": [
           {
            "marker": {
             "line": {
              "color": "#E5ECF6",
              "width": 0.5
             }
            },
            "type": "barpolar"
           }
          ],
          "carpet": [
           {
            "aaxis": {
             "endlinecolor": "#2a3f5f",
             "gridcolor": "white",
             "linecolor": "white",
             "minorgridcolor": "white",
             "startlinecolor": "#2a3f5f"
            },
            "baxis": {
             "endlinecolor": "#2a3f5f",
             "gridcolor": "white",
             "linecolor": "white",
             "minorgridcolor": "white",
             "startlinecolor": "#2a3f5f"
            },
            "type": "carpet"
           }
          ],
          "choropleth": [
           {
            "colorbar": {
             "outlinewidth": 0,
             "ticks": ""
            },
            "type": "choropleth"
           }
          ],
          "contour": [
           {
            "colorbar": {
             "outlinewidth": 0,
             "ticks": ""
            },
            "colorscale": [
             [
              0,
              "#0d0887"
             ],
             [
              0.1111111111111111,
              "#46039f"
             ],
             [
              0.2222222222222222,
              "#7201a8"
             ],
             [
              0.3333333333333333,
              "#9c179e"
             ],
             [
              0.4444444444444444,
              "#bd3786"
             ],
             [
              0.5555555555555556,
              "#d8576b"
             ],
             [
              0.6666666666666666,
              "#ed7953"
             ],
             [
              0.7777777777777778,
              "#fb9f3a"
             ],
             [
              0.8888888888888888,
              "#fdca26"
             ],
             [
              1,
              "#f0f921"
             ]
            ],
            "type": "contour"
           }
          ],
          "contourcarpet": [
           {
            "colorbar": {
             "outlinewidth": 0,
             "ticks": ""
            },
            "type": "contourcarpet"
           }
          ],
          "heatmap": [
           {
            "colorbar": {
             "outlinewidth": 0,
             "ticks": ""
            },
            "colorscale": [
             [
              0,
              "#0d0887"
             ],
             [
              0.1111111111111111,
              "#46039f"
             ],
             [
              0.2222222222222222,
              "#7201a8"
             ],
             [
              0.3333333333333333,
              "#9c179e"
             ],
             [
              0.4444444444444444,
              "#bd3786"
             ],
             [
              0.5555555555555556,
              "#d8576b"
             ],
             [
              0.6666666666666666,
              "#ed7953"
             ],
             [
              0.7777777777777778,
              "#fb9f3a"
             ],
             [
              0.8888888888888888,
              "#fdca26"
             ],
             [
              1,
              "#f0f921"
             ]
            ],
            "type": "heatmap"
           }
          ],
          "heatmapgl": [
           {
            "colorbar": {
             "outlinewidth": 0,
             "ticks": ""
            },
            "colorscale": [
             [
              0,
              "#0d0887"
             ],
             [
              0.1111111111111111,
              "#46039f"
             ],
             [
              0.2222222222222222,
              "#7201a8"
             ],
             [
              0.3333333333333333,
              "#9c179e"
             ],
             [
              0.4444444444444444,
              "#bd3786"
             ],
             [
              0.5555555555555556,
              "#d8576b"
             ],
             [
              0.6666666666666666,
              "#ed7953"
             ],
             [
              0.7777777777777778,
              "#fb9f3a"
             ],
             [
              0.8888888888888888,
              "#fdca26"
             ],
             [
              1,
              "#f0f921"
             ]
            ],
            "type": "heatmapgl"
           }
          ],
          "histogram": [
           {
            "marker": {
             "colorbar": {
              "outlinewidth": 0,
              "ticks": ""
             }
            },
            "type": "histogram"
           }
          ],
          "histogram2d": [
           {
            "colorbar": {
             "outlinewidth": 0,
             "ticks": ""
            },
            "colorscale": [
             [
              0,
              "#0d0887"
             ],
             [
              0.1111111111111111,
              "#46039f"
             ],
             [
              0.2222222222222222,
              "#7201a8"
             ],
             [
              0.3333333333333333,
              "#9c179e"
             ],
             [
              0.4444444444444444,
              "#bd3786"
             ],
             [
              0.5555555555555556,
              "#d8576b"
             ],
             [
              0.6666666666666666,
              "#ed7953"
             ],
             [
              0.7777777777777778,
              "#fb9f3a"
             ],
             [
              0.8888888888888888,
              "#fdca26"
             ],
             [
              1,
              "#f0f921"
             ]
            ],
            "type": "histogram2d"
           }
          ],
          "histogram2dcontour": [
           {
            "colorbar": {
             "outlinewidth": 0,
             "ticks": ""
            },
            "colorscale": [
             [
              0,
              "#0d0887"
             ],
             [
              0.1111111111111111,
              "#46039f"
             ],
             [
              0.2222222222222222,
              "#7201a8"
             ],
             [
              0.3333333333333333,
              "#9c179e"
             ],
             [
              0.4444444444444444,
              "#bd3786"
             ],
             [
              0.5555555555555556,
              "#d8576b"
             ],
             [
              0.6666666666666666,
              "#ed7953"
             ],
             [
              0.7777777777777778,
              "#fb9f3a"
             ],
             [
              0.8888888888888888,
              "#fdca26"
             ],
             [
              1,
              "#f0f921"
             ]
            ],
            "type": "histogram2dcontour"
           }
          ],
          "mesh3d": [
           {
            "colorbar": {
             "outlinewidth": 0,
             "ticks": ""
            },
            "type": "mesh3d"
           }
          ],
          "parcoords": [
           {
            "line": {
             "colorbar": {
              "outlinewidth": 0,
              "ticks": ""
             }
            },
            "type": "parcoords"
           }
          ],
          "pie": [
           {
            "automargin": true,
            "type": "pie"
           }
          ],
          "scatter": [
           {
            "marker": {
             "colorbar": {
              "outlinewidth": 0,
              "ticks": ""
             }
            },
            "type": "scatter"
           }
          ],
          "scatter3d": [
           {
            "line": {
             "colorbar": {
              "outlinewidth": 0,
              "ticks": ""
             }
            },
            "marker": {
             "colorbar": {
              "outlinewidth": 0,
              "ticks": ""
             }
            },
            "type": "scatter3d"
           }
          ],
          "scattercarpet": [
           {
            "marker": {
             "colorbar": {
              "outlinewidth": 0,
              "ticks": ""
             }
            },
            "type": "scattercarpet"
           }
          ],
          "scattergeo": [
           {
            "marker": {
             "colorbar": {
              "outlinewidth": 0,
              "ticks": ""
             }
            },
            "type": "scattergeo"
           }
          ],
          "scattergl": [
           {
            "marker": {
             "colorbar": {
              "outlinewidth": 0,
              "ticks": ""
             }
            },
            "type": "scattergl"
           }
          ],
          "scattermapbox": [
           {
            "marker": {
             "colorbar": {
              "outlinewidth": 0,
              "ticks": ""
             }
            },
            "type": "scattermapbox"
           }
          ],
          "scatterpolar": [
           {
            "marker": {
             "colorbar": {
              "outlinewidth": 0,
              "ticks": ""
             }
            },
            "type": "scatterpolar"
           }
          ],
          "scatterpolargl": [
           {
            "marker": {
             "colorbar": {
              "outlinewidth": 0,
              "ticks": ""
             }
            },
            "type": "scatterpolargl"
           }
          ],
          "scatterternary": [
           {
            "marker": {
             "colorbar": {
              "outlinewidth": 0,
              "ticks": ""
             }
            },
            "type": "scatterternary"
           }
          ],
          "surface": [
           {
            "colorbar": {
             "outlinewidth": 0,
             "ticks": ""
            },
            "colorscale": [
             [
              0,
              "#0d0887"
             ],
             [
              0.1111111111111111,
              "#46039f"
             ],
             [
              0.2222222222222222,
              "#7201a8"
             ],
             [
              0.3333333333333333,
              "#9c179e"
             ],
             [
              0.4444444444444444,
              "#bd3786"
             ],
             [
              0.5555555555555556,
              "#d8576b"
             ],
             [
              0.6666666666666666,
              "#ed7953"
             ],
             [
              0.7777777777777778,
              "#fb9f3a"
             ],
             [
              0.8888888888888888,
              "#fdca26"
             ],
             [
              1,
              "#f0f921"
             ]
            ],
            "type": "surface"
           }
          ],
          "table": [
           {
            "cells": {
             "fill": {
              "color": "#EBF0F8"
             },
             "line": {
              "color": "white"
             }
            },
            "header": {
             "fill": {
              "color": "#C8D4E3"
             },
             "line": {
              "color": "white"
             }
            },
            "type": "table"
           }
          ]
         },
         "layout": {
          "annotationdefaults": {
           "arrowcolor": "#2a3f5f",
           "arrowhead": 0,
           "arrowwidth": 1
          },
          "autotypenumbers": "strict",
          "coloraxis": {
           "colorbar": {
            "outlinewidth": 0,
            "ticks": ""
           }
          },
          "colorscale": {
           "diverging": [
            [
             0,
             "#8e0152"
            ],
            [
             0.1,
             "#c51b7d"
            ],
            [
             0.2,
             "#de77ae"
            ],
            [
             0.3,
             "#f1b6da"
            ],
            [
             0.4,
             "#fde0ef"
            ],
            [
             0.5,
             "#f7f7f7"
            ],
            [
             0.6,
             "#e6f5d0"
            ],
            [
             0.7,
             "#b8e186"
            ],
            [
             0.8,
             "#7fbc41"
            ],
            [
             0.9,
             "#4d9221"
            ],
            [
             1,
             "#276419"
            ]
           ],
           "sequential": [
            [
             0,
             "#0d0887"
            ],
            [
             0.1111111111111111,
             "#46039f"
            ],
            [
             0.2222222222222222,
             "#7201a8"
            ],
            [
             0.3333333333333333,
             "#9c179e"
            ],
            [
             0.4444444444444444,
             "#bd3786"
            ],
            [
             0.5555555555555556,
             "#d8576b"
            ],
            [
             0.6666666666666666,
             "#ed7953"
            ],
            [
             0.7777777777777778,
             "#fb9f3a"
            ],
            [
             0.8888888888888888,
             "#fdca26"
            ],
            [
             1,
             "#f0f921"
            ]
           ],
           "sequentialminus": [
            [
             0,
             "#0d0887"
            ],
            [
             0.1111111111111111,
             "#46039f"
            ],
            [
             0.2222222222222222,
             "#7201a8"
            ],
            [
             0.3333333333333333,
             "#9c179e"
            ],
            [
             0.4444444444444444,
             "#bd3786"
            ],
            [
             0.5555555555555556,
             "#d8576b"
            ],
            [
             0.6666666666666666,
             "#ed7953"
            ],
            [
             0.7777777777777778,
             "#fb9f3a"
            ],
            [
             0.8888888888888888,
             "#fdca26"
            ],
            [
             1,
             "#f0f921"
            ]
           ]
          },
          "colorway": [
           "#636efa",
           "#EF553B",
           "#00cc96",
           "#ab63fa",
           "#FFA15A",
           "#19d3f3",
           "#FF6692",
           "#B6E880",
           "#FF97FF",
           "#FECB52"
          ],
          "font": {
           "color": "#2a3f5f"
          },
          "geo": {
           "bgcolor": "white",
           "lakecolor": "white",
           "landcolor": "#E5ECF6",
           "showlakes": true,
           "showland": true,
           "subunitcolor": "white"
          },
          "hoverlabel": {
           "align": "left"
          },
          "hovermode": "closest",
          "mapbox": {
           "style": "light"
          },
          "paper_bgcolor": "white",
          "plot_bgcolor": "#E5ECF6",
          "polar": {
           "angularaxis": {
            "gridcolor": "white",
            "linecolor": "white",
            "ticks": ""
           },
           "bgcolor": "#E5ECF6",
           "radialaxis": {
            "gridcolor": "white",
            "linecolor": "white",
            "ticks": ""
           }
          },
          "scene": {
           "xaxis": {
            "backgroundcolor": "#E5ECF6",
            "gridcolor": "white",
            "gridwidth": 2,
            "linecolor": "white",
            "showbackground": true,
            "ticks": "",
            "zerolinecolor": "white"
           },
           "yaxis": {
            "backgroundcolor": "#E5ECF6",
            "gridcolor": "white",
            "gridwidth": 2,
            "linecolor": "white",
            "showbackground": true,
            "ticks": "",
            "zerolinecolor": "white"
           },
           "zaxis": {
            "backgroundcolor": "#E5ECF6",
            "gridcolor": "white",
            "gridwidth": 2,
            "linecolor": "white",
            "showbackground": true,
            "ticks": "",
            "zerolinecolor": "white"
           }
          },
          "shapedefaults": {
           "line": {
            "color": "#2a3f5f"
           }
          },
          "ternary": {
           "aaxis": {
            "gridcolor": "white",
            "linecolor": "white",
            "ticks": ""
           },
           "baxis": {
            "gridcolor": "white",
            "linecolor": "white",
            "ticks": ""
           },
           "bgcolor": "#E5ECF6",
           "caxis": {
            "gridcolor": "white",
            "linecolor": "white",
            "ticks": ""
           }
          },
          "title": {
           "x": 0.05
          },
          "xaxis": {
           "automargin": true,
           "gridcolor": "white",
           "linecolor": "white",
           "ticks": "",
           "title": {
            "standoff": 15
           },
           "zerolinecolor": "white",
           "zerolinewidth": 2
          },
          "yaxis": {
           "automargin": true,
           "gridcolor": "white",
           "linecolor": "white",
           "ticks": "",
           "title": {
            "standoff": 15
           },
           "zerolinecolor": "white",
           "zerolinewidth": 2
          }
         }
        },
        "title": {
         "text": "Monthly Job Postings Trend by Year"
        },
        "updatemenus": [
         {
          "buttons": [
           {
            "args": [
             {
              "visible": [
               true,
               true,
               true,
               true,
               true,
               true,
               true,
               true,
               true,
               true,
               true,
               true,
               true,
               true,
               true,
               true,
               true,
               true,
               true,
               true,
               true,
               true,
               true,
               true,
               true,
               false,
               false,
               false
              ]
             },
             {
              "title": "Weekly Job Postings Trend by Month and Year"
             }
            ],
            "label": "With Week of Month",
            "method": "update"
           },
           {
            "args": [
             {
              "visible": [
               false,
               false,
               false,
               false,
               false,
               false,
               false,
               false,
               false,
               false,
               false,
               false,
               false,
               false,
               false,
               false,
               false,
               false,
               false,
               false,
               false,
               false,
               false,
               false,
               false,
               true,
               true,
               true
              ]
             },
             {
              "title": "Monthly Job Postings Trend by Year"
             }
            ],
            "label": "Without Week of Month",
            "method": "update"
           }
          ],
          "direction": "down",
          "showactive": true
         }
        ],
        "xaxis": {
         "title": {
          "text": "Time"
         }
        },
        "yaxis": {
         "title": {
          "text": "Number of Job Postings"
         }
        }
       }
      },
      "text/html": [
       "<div>                            <div id=\"843b8bf1-2e4e-4578-a894-11efcc4b1041\" class=\"plotly-graph-div\" style=\"height:525px; width:100%;\"></div>            <script type=\"text/javascript\">                require([\"plotly\"], function(Plotly) {                    window.PLOTLYENV=window.PLOTLYENV || {};                                    if (document.getElementById(\"843b8bf1-2e4e-4578-a894-11efcc4b1041\")) {                    Plotly.newPlot(                        \"843b8bf1-2e4e-4578-a894-11efcc4b1041\",                        [{\"hovertemplate\": \"Month-Year=9<br>year=2021<br>Week of Month=%{x}<br>Number of Job Postings=%{y}<extra></extra>\", \"legendgroup\": \"9, 2021\", \"line\": {\"color\": \"#636efa\", \"dash\": \"solid\"}, \"mode\": \"lines\", \"name\": \"9, 2021\", \"orientation\": \"v\", \"showlegend\": true, \"type\": \"scatter\", \"visible\": true, \"x\": [3, 4], \"xaxis\": \"x\", \"y\": [472, 1033], \"yaxis\": \"y\"}, {\"hovertemplate\": \"Month-Year=9<br>year=2022<br>Week of Month=%{x}<br>Number of Job Postings=%{y}<extra></extra>\", \"legendgroup\": \"9, 2022\", \"line\": {\"color\": \"#636efa\", \"dash\": \"dot\"}, \"mode\": \"lines\", \"name\": \"9, 2022\", \"orientation\": \"v\", \"showlegend\": true, \"type\": \"scatter\", \"visible\": true, \"x\": [1, 2, 3, 4], \"xaxis\": \"x\", \"y\": [349, 621, 617, 1067], \"yaxis\": \"y\"}, {\"hovertemplate\": \"Month-Year=9<br>year=2023<br>Week of Month=%{x}<br>Number of Job Postings=%{y}<extra></extra>\", \"legendgroup\": \"9, 2023\", \"line\": {\"color\": \"#636efa\", \"dash\": \"dash\"}, \"mode\": \"lines\", \"name\": \"9, 2023\", \"orientation\": \"v\", \"showlegend\": true, \"type\": \"scatter\", \"visible\": true, \"x\": [1, 2, 3], \"xaxis\": \"x\", \"y\": [259, 647, 452], \"yaxis\": \"y\"}, {\"hovertemplate\": \"Month-Year=10<br>year=2021<br>Week of Month=%{x}<br>Number of Job Postings=%{y}<extra></extra>\", \"legendgroup\": \"10, 2021\", \"line\": {\"color\": \"#EF553B\", \"dash\": \"solid\"}, \"mode\": \"lines\", \"name\": \"10, 2021\", \"orientation\": \"v\", \"showlegend\": true, \"type\": \"scatter\", \"visible\": false, \"x\": [1, 2, 3, 4], \"xaxis\": \"x\", \"y\": [272, 601, 599, 1166], \"yaxis\": \"y\"}, {\"hovertemplate\": \"Month-Year=10<br>year=2022<br>Week of Month=%{x}<br>Number of Job Postings=%{y}<extra></extra>\", \"legendgroup\": \"10, 2022\", \"line\": {\"color\": \"#EF553B\", \"dash\": \"dot\"}, \"mode\": \"lines\", \"name\": \"10, 2022\", \"orientation\": \"v\", \"showlegend\": true, \"type\": \"scatter\", \"visible\": false, \"x\": [1, 2, 3, 4], \"xaxis\": \"x\", \"y\": [208, 633, 621, 1260], \"yaxis\": \"y\"}, {\"hovertemplate\": \"Month-Year=11<br>year=2021<br>Week of Month=%{x}<br>Number of Job Postings=%{y}<extra></extra>\", \"legendgroup\": \"11, 2021\", \"line\": {\"color\": \"#00cc96\", \"dash\": \"solid\"}, \"mode\": \"lines\", \"name\": \"11, 2021\", \"orientation\": \"v\", \"showlegend\": true, \"type\": \"scatter\", \"visible\": false, \"x\": [1, 2, 3, 4], \"xaxis\": \"x\", \"y\": [653, 572, 614, 809], \"yaxis\": \"y\"}, {\"hovertemplate\": \"Month-Year=11<br>year=2022<br>Week of Month=%{x}<br>Number of Job Postings=%{y}<extra></extra>\", \"legendgroup\": \"11, 2022\", \"line\": {\"color\": \"#00cc96\", \"dash\": \"dot\"}, \"mode\": \"lines\", \"name\": \"11, 2022\", \"orientation\": \"v\", \"showlegend\": true, \"type\": \"scatter\", \"visible\": false, \"x\": [1, 2, 3, 4], \"xaxis\": \"x\", \"y\": [590, 649, 581, 915], \"yaxis\": \"y\"}, {\"hovertemplate\": \"Month-Year=12<br>year=2021<br>Week of Month=%{x}<br>Number of Job Postings=%{y}<extra></extra>\", \"legendgroup\": \"12, 2021\", \"line\": {\"color\": \"#ab63fa\", \"dash\": \"solid\"}, \"mode\": \"lines\", \"name\": \"12, 2021\", \"orientation\": \"v\", \"showlegend\": true, \"type\": \"scatter\", \"visible\": false, \"x\": [1, 2, 3, 4], \"xaxis\": \"x\", \"y\": [426, 606, 651, 1048], \"yaxis\": \"y\"}, {\"hovertemplate\": \"Month-Year=12<br>year=2022<br>Week of Month=%{x}<br>Number of Job Postings=%{y}<extra></extra>\", \"legendgroup\": \"12, 2022\", \"line\": {\"color\": \"#ab63fa\", \"dash\": \"dot\"}, \"mode\": \"lines\", \"name\": \"12, 2022\", \"orientation\": \"v\", \"showlegend\": true, \"type\": \"scatter\", \"visible\": false, \"x\": [1, 2, 3, 4], \"xaxis\": \"x\", \"y\": [352, 657, 612, 1203], \"yaxis\": \"y\"}, {\"hovertemplate\": \"Month-Year=1<br>year=2022<br>Week of Month=%{x}<br>Number of Job Postings=%{y}<extra></extra>\", \"legendgroup\": \"1, 2022\", \"line\": {\"color\": \"#FFA15A\", \"dash\": \"dot\"}, \"mode\": \"lines\", \"name\": \"1, 2022\", \"orientation\": \"v\", \"showlegend\": true, \"type\": \"scatter\", \"visible\": false, \"x\": [1, 2, 3, 4], \"xaxis\": \"x\", \"y\": [185, 645, 600, 1310], \"yaxis\": \"y\"}, {\"hovertemplate\": \"Month-Year=1<br>year=2023<br>Week of Month=%{x}<br>Number of Job Postings=%{y}<extra></extra>\", \"legendgroup\": \"1, 2023\", \"line\": {\"color\": \"#FFA15A\", \"dash\": \"dash\"}, \"mode\": \"lines\", \"name\": \"1, 2023\", \"orientation\": \"v\", \"showlegend\": true, \"type\": \"scatter\", \"visible\": false, \"x\": [1, 2, 3, 4], \"xaxis\": \"x\", \"y\": [81, 606, 645, 1421], \"yaxis\": \"y\"}, {\"hovertemplate\": \"Month-Year=2<br>year=2022<br>Week of Month=%{x}<br>Number of Job Postings=%{y}<extra></extra>\", \"legendgroup\": \"2, 2022\", \"line\": {\"color\": \"#19d3f3\", \"dash\": \"dot\"}, \"mode\": \"lines\", \"name\": \"2, 2022\", \"orientation\": \"v\", \"showlegend\": true, \"type\": \"scatter\", \"visible\": false, \"x\": [1, 2, 3, 4], \"xaxis\": \"x\", \"y\": [513, 575, 649, 746], \"yaxis\": \"y\"}, {\"hovertemplate\": \"Month-Year=2<br>year=2023<br>Week of Month=%{x}<br>Number of Job Postings=%{y}<extra></extra>\", \"legendgroup\": \"2, 2023\", \"line\": {\"color\": \"#19d3f3\", \"dash\": \"dash\"}, \"mode\": \"lines\", \"name\": \"2, 2023\", \"orientation\": \"v\", \"showlegend\": true, \"type\": \"scatter\", \"visible\": false, \"x\": [1, 2, 3, 4], \"xaxis\": \"x\", \"y\": [456, 662, 597, 811], \"yaxis\": \"y\"}, {\"hovertemplate\": \"Month-Year=3<br>year=2022<br>Week of Month=%{x}<br>Number of Job Postings=%{y}<extra></extra>\", \"legendgroup\": \"3, 2022\", \"line\": {\"color\": \"#FF6692\", \"dash\": \"dot\"}, \"mode\": \"lines\", \"name\": \"3, 2022\", \"orientation\": \"v\", \"showlegend\": true, \"type\": \"scatter\", \"visible\": false, \"x\": [1, 2, 3, 4], \"xaxis\": \"x\", \"y\": [530, 639, 637, 1002], \"yaxis\": \"y\"}, {\"hovertemplate\": \"Month-Year=3<br>year=2023<br>Week of Month=%{x}<br>Number of Job Postings=%{y}<extra></extra>\", \"legendgroup\": \"3, 2023\", \"line\": {\"color\": \"#FF6692\", \"dash\": \"dash\"}, \"mode\": \"lines\", \"name\": \"3, 2023\", \"orientation\": \"v\", \"showlegend\": true, \"type\": \"scatter\", \"visible\": false, \"x\": [1, 2, 3, 4], \"xaxis\": \"x\", \"y\": [441, 595, 615, 1049], \"yaxis\": \"y\"}, {\"hovertemplate\": \"Month-Year=4<br>year=2022<br>Week of Month=%{x}<br>Number of Job Postings=%{y}<extra></extra>\", \"legendgroup\": \"4, 2022\", \"line\": {\"color\": \"#B6E880\", \"dash\": \"dot\"}, \"mode\": \"lines\", \"name\": \"4, 2022\", \"orientation\": \"v\", \"showlegend\": true, \"type\": \"scatter\", \"visible\": false, \"x\": [1, 2, 3, 4], \"xaxis\": \"x\", \"y\": [262, 544, 588, 1135], \"yaxis\": \"y\"}, {\"hovertemplate\": \"Month-Year=4<br>year=2023<br>Week of Month=%{x}<br>Number of Job Postings=%{y}<extra></extra>\", \"legendgroup\": \"4, 2023\", \"line\": {\"color\": \"#B6E880\", \"dash\": \"dash\"}, \"mode\": \"lines\", \"name\": \"4, 2023\", \"orientation\": \"v\", \"showlegend\": true, \"type\": \"scatter\", \"visible\": false, \"x\": [1, 2, 3, 4], \"xaxis\": \"x\", \"y\": [204, 598, 624, 1227], \"yaxis\": \"y\"}, {\"hovertemplate\": \"Month-Year=5<br>year=2022<br>Week of Month=%{x}<br>Number of Job Postings=%{y}<extra></extra>\", \"legendgroup\": \"5, 2022\", \"line\": {\"color\": \"#FF97FF\", \"dash\": \"dot\"}, \"mode\": \"lines\", \"name\": \"5, 2022\", \"orientation\": \"v\", \"showlegend\": true, \"type\": \"scatter\", \"visible\": false, \"x\": [1, 2, 3, 4], \"xaxis\": \"x\", \"y\": [87, 603, 600, 1384], \"yaxis\": \"y\"}, {\"hovertemplate\": \"Month-Year=5<br>year=2023<br>Week of Month=%{x}<br>Number of Job Postings=%{y}<extra></extra>\", \"legendgroup\": \"5, 2023\", \"line\": {\"color\": \"#FF97FF\", \"dash\": \"dash\"}, \"mode\": \"lines\", \"name\": \"5, 2023\", \"orientation\": \"v\", \"showlegend\": true, \"type\": \"scatter\", \"visible\": false, \"x\": [1, 2, 3, 4], \"xaxis\": \"x\", \"y\": [604, 582, 657, 924], \"yaxis\": \"y\"}, {\"hovertemplate\": \"Month-Year=6<br>year=2022<br>Week of Month=%{x}<br>Number of Job Postings=%{y}<extra></extra>\", \"legendgroup\": \"6, 2022\", \"line\": {\"color\": \"#FECB52\", \"dash\": \"dot\"}, \"mode\": \"lines\", \"name\": \"6, 2022\", \"orientation\": \"v\", \"showlegend\": true, \"type\": \"scatter\", \"visible\": false, \"x\": [1, 2, 3, 4], \"xaxis\": \"x\", \"y\": [442, 591, 647, 981], \"yaxis\": \"y\"}, {\"hovertemplate\": \"Month-Year=6<br>year=2023<br>Week of Month=%{x}<br>Number of Job Postings=%{y}<extra></extra>\", \"legendgroup\": \"6, 2023\", \"line\": {\"color\": \"#FECB52\", \"dash\": \"dash\"}, \"mode\": \"lines\", \"name\": \"6, 2023\", \"orientation\": \"v\", \"showlegend\": true, \"type\": \"scatter\", \"visible\": false, \"x\": [1, 2, 3, 4], \"xaxis\": \"x\", \"y\": [333, 614, 589, 1057], \"yaxis\": \"y\"}, {\"hovertemplate\": \"Month-Year=7<br>year=2022<br>Week of Month=%{x}<br>Number of Job Postings=%{y}<extra></extra>\", \"legendgroup\": \"7, 2022\", \"line\": {\"color\": \"#636efa\", \"dash\": \"dot\"}, \"mode\": \"lines\", \"name\": \"7, 2022\", \"orientation\": \"v\", \"showlegend\": true, \"type\": \"scatter\", \"visible\": false, \"x\": [1, 2, 3, 4], \"xaxis\": \"x\", \"y\": [282, 650, 640, 1245], \"yaxis\": \"y\"}, {\"hovertemplate\": \"Month-Year=7<br>year=2023<br>Week of Month=%{x}<br>Number of Job Postings=%{y}<extra></extra>\", \"legendgroup\": \"7, 2023\", \"line\": {\"color\": \"#636efa\", \"dash\": \"dash\"}, \"mode\": \"lines\", \"name\": \"7, 2023\", \"orientation\": \"v\", \"showlegend\": true, \"type\": \"scatter\", \"visible\": false, \"x\": [1, 2, 3, 4], \"xaxis\": \"x\", \"y\": [163, 577, 617, 1309], \"yaxis\": \"y\"}, {\"hovertemplate\": \"Month-Year=8<br>year=2022<br>Week of Month=%{x}<br>Number of Job Postings=%{y}<extra></extra>\", \"legendgroup\": \"8, 2022\", \"line\": {\"color\": \"#EF553B\", \"dash\": \"dot\"}, \"mode\": \"lines\", \"name\": \"8, 2022\", \"orientation\": \"v\", \"showlegend\": true, \"type\": \"scatter\", \"visible\": false, \"x\": [1, 2, 3, 4], \"xaxis\": \"x\", \"y\": [657, 634, 593, 869], \"yaxis\": \"y\"}, {\"hovertemplate\": \"Month-Year=8<br>year=2023<br>Week of Month=%{x}<br>Number of Job Postings=%{y}<extra></extra>\", \"legendgroup\": \"8, 2023\", \"line\": {\"color\": \"#EF553B\", \"dash\": \"dash\"}, \"mode\": \"lines\", \"name\": \"8, 2023\", \"orientation\": \"v\", \"showlegend\": true, \"type\": \"scatter\", \"visible\": false, \"x\": [1, 2, 3, 4], \"xaxis\": \"x\", \"y\": [507, 605, 622, 992], \"yaxis\": \"y\"}, {\"hovertemplate\": \"Year=2021<br>Month=%{x}<br>Number of Job Postings=%{y}<extra></extra>\", \"legendgroup\": \"2021\", \"line\": {\"color\": \"#636efa\", \"dash\": \"solid\"}, \"mode\": \"lines\", \"name\": \"2021\", \"orientation\": \"v\", \"showlegend\": true, \"type\": \"scatter\", \"x\": [9, 10, 11, 12], \"xaxis\": \"x\", \"y\": [1505, 2638, 2648, 2731], \"yaxis\": \"y\"}, {\"hovertemplate\": \"Year=2022<br>Month=%{x}<br>Number of Job Postings=%{y}<extra></extra>\", \"legendgroup\": \"2022\", \"line\": {\"color\": \"#EF553B\", \"dash\": \"solid\"}, \"mode\": \"lines\", \"name\": \"2022\", \"orientation\": \"v\", \"showlegend\": true, \"type\": \"scatter\", \"x\": [1, 2, 3, 4, 5, 6, 7, 8, 9, 10, 11, 12], \"xaxis\": \"x\", \"y\": [2740, 2483, 2808, 2529, 2674, 2661, 2817, 2753, 2654, 2722, 2735, 2824], \"yaxis\": \"y\"}, {\"hovertemplate\": \"Year=2023<br>Month=%{x}<br>Number of Job Postings=%{y}<extra></extra>\", \"legendgroup\": \"2023\", \"line\": {\"color\": \"#00cc96\", \"dash\": \"solid\"}, \"mode\": \"lines\", \"name\": \"2023\", \"orientation\": \"v\", \"showlegend\": true, \"type\": \"scatter\", \"x\": [1, 2, 3, 4, 5, 6, 7, 8, 9], \"xaxis\": \"x\", \"y\": [2753, 2526, 2700, 2653, 2767, 2593, 2666, 2726, 1358], \"yaxis\": \"y\"}],                        {\"template\": {\"data\": {\"bar\": [{\"error_x\": {\"color\": \"#2a3f5f\"}, \"error_y\": {\"color\": \"#2a3f5f\"}, \"marker\": {\"line\": {\"color\": \"#E5ECF6\", \"width\": 0.5}}, \"type\": \"bar\"}], \"barpolar\": [{\"marker\": {\"line\": {\"color\": \"#E5ECF6\", \"width\": 0.5}}, \"type\": \"barpolar\"}], \"carpet\": [{\"aaxis\": {\"endlinecolor\": \"#2a3f5f\", \"gridcolor\": \"white\", \"linecolor\": \"white\", \"minorgridcolor\": \"white\", \"startlinecolor\": \"#2a3f5f\"}, \"baxis\": {\"endlinecolor\": \"#2a3f5f\", \"gridcolor\": \"white\", \"linecolor\": \"white\", \"minorgridcolor\": \"white\", \"startlinecolor\": \"#2a3f5f\"}, \"type\": \"carpet\"}], \"choropleth\": [{\"colorbar\": {\"outlinewidth\": 0, \"ticks\": \"\"}, \"type\": \"choropleth\"}], \"contour\": [{\"colorbar\": {\"outlinewidth\": 0, \"ticks\": \"\"}, \"colorscale\": [[0.0, \"#0d0887\"], [0.1111111111111111, \"#46039f\"], [0.2222222222222222, \"#7201a8\"], [0.3333333333333333, \"#9c179e\"], [0.4444444444444444, \"#bd3786\"], [0.5555555555555556, \"#d8576b\"], [0.6666666666666666, \"#ed7953\"], [0.7777777777777778, \"#fb9f3a\"], [0.8888888888888888, \"#fdca26\"], [1.0, \"#f0f921\"]], \"type\": \"contour\"}], \"contourcarpet\": [{\"colorbar\": {\"outlinewidth\": 0, \"ticks\": \"\"}, \"type\": \"contourcarpet\"}], \"heatmap\": [{\"colorbar\": {\"outlinewidth\": 0, \"ticks\": \"\"}, \"colorscale\": [[0.0, \"#0d0887\"], [0.1111111111111111, \"#46039f\"], [0.2222222222222222, \"#7201a8\"], [0.3333333333333333, \"#9c179e\"], [0.4444444444444444, \"#bd3786\"], [0.5555555555555556, \"#d8576b\"], [0.6666666666666666, \"#ed7953\"], [0.7777777777777778, \"#fb9f3a\"], [0.8888888888888888, \"#fdca26\"], [1.0, \"#f0f921\"]], \"type\": \"heatmap\"}], \"heatmapgl\": [{\"colorbar\": {\"outlinewidth\": 0, \"ticks\": \"\"}, \"colorscale\": [[0.0, \"#0d0887\"], [0.1111111111111111, \"#46039f\"], [0.2222222222222222, \"#7201a8\"], [0.3333333333333333, \"#9c179e\"], [0.4444444444444444, \"#bd3786\"], [0.5555555555555556, \"#d8576b\"], [0.6666666666666666, \"#ed7953\"], [0.7777777777777778, \"#fb9f3a\"], [0.8888888888888888, \"#fdca26\"], [1.0, \"#f0f921\"]], \"type\": \"heatmapgl\"}], \"histogram\": [{\"marker\": {\"colorbar\": {\"outlinewidth\": 0, \"ticks\": \"\"}}, \"type\": \"histogram\"}], \"histogram2d\": [{\"colorbar\": {\"outlinewidth\": 0, \"ticks\": \"\"}, \"colorscale\": [[0.0, \"#0d0887\"], [0.1111111111111111, \"#46039f\"], [0.2222222222222222, \"#7201a8\"], [0.3333333333333333, \"#9c179e\"], [0.4444444444444444, \"#bd3786\"], [0.5555555555555556, \"#d8576b\"], [0.6666666666666666, \"#ed7953\"], [0.7777777777777778, \"#fb9f3a\"], [0.8888888888888888, \"#fdca26\"], [1.0, \"#f0f921\"]], \"type\": \"histogram2d\"}], \"histogram2dcontour\": [{\"colorbar\": {\"outlinewidth\": 0, \"ticks\": \"\"}, \"colorscale\": [[0.0, \"#0d0887\"], [0.1111111111111111, \"#46039f\"], [0.2222222222222222, \"#7201a8\"], [0.3333333333333333, \"#9c179e\"], [0.4444444444444444, \"#bd3786\"], [0.5555555555555556, \"#d8576b\"], [0.6666666666666666, \"#ed7953\"], [0.7777777777777778, \"#fb9f3a\"], [0.8888888888888888, \"#fdca26\"], [1.0, \"#f0f921\"]], \"type\": \"histogram2dcontour\"}], \"mesh3d\": [{\"colorbar\": {\"outlinewidth\": 0, \"ticks\": \"\"}, \"type\": \"mesh3d\"}], \"parcoords\": [{\"line\": {\"colorbar\": {\"outlinewidth\": 0, \"ticks\": \"\"}}, \"type\": \"parcoords\"}], \"pie\": [{\"automargin\": true, \"type\": \"pie\"}], \"scatter\": [{\"marker\": {\"colorbar\": {\"outlinewidth\": 0, \"ticks\": \"\"}}, \"type\": \"scatter\"}], \"scatter3d\": [{\"line\": {\"colorbar\": {\"outlinewidth\": 0, \"ticks\": \"\"}}, \"marker\": {\"colorbar\": {\"outlinewidth\": 0, \"ticks\": \"\"}}, \"type\": \"scatter3d\"}], \"scattercarpet\": [{\"marker\": {\"colorbar\": {\"outlinewidth\": 0, \"ticks\": \"\"}}, \"type\": \"scattercarpet\"}], \"scattergeo\": [{\"marker\": {\"colorbar\": {\"outlinewidth\": 0, \"ticks\": \"\"}}, \"type\": \"scattergeo\"}], \"scattergl\": [{\"marker\": {\"colorbar\": {\"outlinewidth\": 0, \"ticks\": \"\"}}, \"type\": \"scattergl\"}], \"scattermapbox\": [{\"marker\": {\"colorbar\": {\"outlinewidth\": 0, \"ticks\": \"\"}}, \"type\": \"scattermapbox\"}], \"scatterpolar\": [{\"marker\": {\"colorbar\": {\"outlinewidth\": 0, \"ticks\": \"\"}}, \"type\": \"scatterpolar\"}], \"scatterpolargl\": [{\"marker\": {\"colorbar\": {\"outlinewidth\": 0, \"ticks\": \"\"}}, \"type\": \"scatterpolargl\"}], \"scatterternary\": [{\"marker\": {\"colorbar\": {\"outlinewidth\": 0, \"ticks\": \"\"}}, \"type\": \"scatterternary\"}], \"surface\": [{\"colorbar\": {\"outlinewidth\": 0, \"ticks\": \"\"}, \"colorscale\": [[0.0, \"#0d0887\"], [0.1111111111111111, \"#46039f\"], [0.2222222222222222, \"#7201a8\"], [0.3333333333333333, \"#9c179e\"], [0.4444444444444444, \"#bd3786\"], [0.5555555555555556, \"#d8576b\"], [0.6666666666666666, \"#ed7953\"], [0.7777777777777778, \"#fb9f3a\"], [0.8888888888888888, \"#fdca26\"], [1.0, \"#f0f921\"]], \"type\": \"surface\"}], \"table\": [{\"cells\": {\"fill\": {\"color\": \"#EBF0F8\"}, \"line\": {\"color\": \"white\"}}, \"header\": {\"fill\": {\"color\": \"#C8D4E3\"}, \"line\": {\"color\": \"white\"}}, \"type\": \"table\"}]}, \"layout\": {\"annotationdefaults\": {\"arrowcolor\": \"#2a3f5f\", \"arrowhead\": 0, \"arrowwidth\": 1}, \"autotypenumbers\": \"strict\", \"coloraxis\": {\"colorbar\": {\"outlinewidth\": 0, \"ticks\": \"\"}}, \"colorscale\": {\"diverging\": [[0, \"#8e0152\"], [0.1, \"#c51b7d\"], [0.2, \"#de77ae\"], [0.3, \"#f1b6da\"], [0.4, \"#fde0ef\"], [0.5, \"#f7f7f7\"], [0.6, \"#e6f5d0\"], [0.7, \"#b8e186\"], [0.8, \"#7fbc41\"], [0.9, \"#4d9221\"], [1, \"#276419\"]], \"sequential\": [[0.0, \"#0d0887\"], [0.1111111111111111, \"#46039f\"], [0.2222222222222222, \"#7201a8\"], [0.3333333333333333, \"#9c179e\"], [0.4444444444444444, \"#bd3786\"], [0.5555555555555556, \"#d8576b\"], [0.6666666666666666, \"#ed7953\"], [0.7777777777777778, \"#fb9f3a\"], [0.8888888888888888, \"#fdca26\"], [1.0, \"#f0f921\"]], \"sequentialminus\": [[0.0, \"#0d0887\"], [0.1111111111111111, \"#46039f\"], [0.2222222222222222, \"#7201a8\"], [0.3333333333333333, \"#9c179e\"], [0.4444444444444444, \"#bd3786\"], [0.5555555555555556, \"#d8576b\"], [0.6666666666666666, \"#ed7953\"], [0.7777777777777778, \"#fb9f3a\"], [0.8888888888888888, \"#fdca26\"], [1.0, \"#f0f921\"]]}, \"colorway\": [\"#636efa\", \"#EF553B\", \"#00cc96\", \"#ab63fa\", \"#FFA15A\", \"#19d3f3\", \"#FF6692\", \"#B6E880\", \"#FF97FF\", \"#FECB52\"], \"font\": {\"color\": \"#2a3f5f\"}, \"geo\": {\"bgcolor\": \"white\", \"lakecolor\": \"white\", \"landcolor\": \"#E5ECF6\", \"showlakes\": true, \"showland\": true, \"subunitcolor\": \"white\"}, \"hoverlabel\": {\"align\": \"left\"}, \"hovermode\": \"closest\", \"mapbox\": {\"style\": \"light\"}, \"paper_bgcolor\": \"white\", \"plot_bgcolor\": \"#E5ECF6\", \"polar\": {\"angularaxis\": {\"gridcolor\": \"white\", \"linecolor\": \"white\", \"ticks\": \"\"}, \"bgcolor\": \"#E5ECF6\", \"radialaxis\": {\"gridcolor\": \"white\", \"linecolor\": \"white\", \"ticks\": \"\"}}, \"scene\": {\"xaxis\": {\"backgroundcolor\": \"#E5ECF6\", \"gridcolor\": \"white\", \"gridwidth\": 2, \"linecolor\": \"white\", \"showbackground\": true, \"ticks\": \"\", \"zerolinecolor\": \"white\"}, \"yaxis\": {\"backgroundcolor\": \"#E5ECF6\", \"gridcolor\": \"white\", \"gridwidth\": 2, \"linecolor\": \"white\", \"showbackground\": true, \"ticks\": \"\", \"zerolinecolor\": \"white\"}, \"zaxis\": {\"backgroundcolor\": \"#E5ECF6\", \"gridcolor\": \"white\", \"gridwidth\": 2, \"linecolor\": \"white\", \"showbackground\": true, \"ticks\": \"\", \"zerolinecolor\": \"white\"}}, \"shapedefaults\": {\"line\": {\"color\": \"#2a3f5f\"}}, \"ternary\": {\"aaxis\": {\"gridcolor\": \"white\", \"linecolor\": \"white\", \"ticks\": \"\"}, \"baxis\": {\"gridcolor\": \"white\", \"linecolor\": \"white\", \"ticks\": \"\"}, \"bgcolor\": \"#E5ECF6\", \"caxis\": {\"gridcolor\": \"white\", \"linecolor\": \"white\", \"ticks\": \"\"}}, \"title\": {\"x\": 0.05}, \"xaxis\": {\"automargin\": true, \"gridcolor\": \"white\", \"linecolor\": \"white\", \"ticks\": \"\", \"title\": {\"standoff\": 15}, \"zerolinecolor\": \"white\", \"zerolinewidth\": 2}, \"yaxis\": {\"automargin\": true, \"gridcolor\": \"white\", \"linecolor\": \"white\", \"ticks\": \"\", \"title\": {\"standoff\": 15}, \"zerolinecolor\": \"white\", \"zerolinewidth\": 2}}}, \"title\": {\"text\": \"Monthly Job Postings Trend by Year\"}, \"updatemenus\": [{\"buttons\": [{\"args\": [{\"visible\": [true, true, true, true, true, true, true, true, true, true, true, true, true, true, true, true, true, true, true, true, true, true, true, true, true, false, false, false]}, {\"title\": \"Weekly Job Postings Trend by Month and Year\"}], \"label\": \"With Week of Month\", \"method\": \"update\"}, {\"args\": [{\"visible\": [false, false, false, false, false, false, false, false, false, false, false, false, false, false, false, false, false, false, false, false, false, false, false, false, false, true, true, true]}, {\"title\": \"Monthly Job Postings Trend by Year\"}], \"label\": \"Without Week of Month\", \"method\": \"update\"}], \"direction\": \"down\", \"showactive\": true}], \"xaxis\": {\"title\": {\"text\": \"Time\"}}, \"yaxis\": {\"title\": {\"text\": \"Number of Job Postings\"}}},                        {\"responsive\": true}                    ).then(function(){\n",
       "                            \n",
       "var gd = document.getElementById('843b8bf1-2e4e-4578-a894-11efcc4b1041');\n",
       "var x = new MutationObserver(function (mutations, observer) {{\n",
       "        var display = window.getComputedStyle(gd).display;\n",
       "        if (!display || display === 'none') {{\n",
       "            console.log([gd, 'removed!']);\n",
       "            Plotly.purge(gd);\n",
       "            observer.disconnect();\n",
       "        }}\n",
       "}});\n",
       "\n",
       "// Listen for the removal of the full notebook cells\n",
       "var notebookContainer = gd.closest('#notebook-container');\n",
       "if (notebookContainer) {{\n",
       "    x.observe(notebookContainer, {childList: true});\n",
       "}}\n",
       "\n",
       "// Listen for the clearing of the current output cell\n",
       "var outputEl = gd.closest('.output');\n",
       "if (outputEl) {{\n",
       "    x.observe(outputEl, {childList: true});\n",
       "}}\n",
       "\n",
       "                        })                };                });            </script>        </div>"
      ]
     },
     "metadata": {},
     "output_type": "display_data"
    }
   ],
   "source": [
    "import pandas as pd\n",
    "from math import ceil\n",
    "import plotly.express as px\n",
    "import plotly.graph_objects as go\n",
    "\n",
    "def create_job_postings_trend_plot(data):\n",
    "    # Extracting time components\n",
    "    data['year'] = data['Job Posting Date'].dt.year\n",
    "    data['month'] = data['Job Posting Date'].dt.month\n",
    "\n",
    "    # Define a function to calculate the week of the month\n",
    "    def week_of_month(dt):\n",
    "        first_day = dt.replace(day=1)\n",
    "        dom = dt.day\n",
    "        adjusted_dom = dom + first_day.weekday()\n",
    "        return min(4, int(ceil(adjusted_dom / 7.0)))\n",
    "\n",
    "    # Apply the function to the DataFrame\n",
    "    data['week_of_month'] = data['Job Posting Date'].apply(week_of_month)\n",
    "\n",
    "    # Define a function to group data with an optional week_of_month filter\n",
    "    def group_data(data, use_week_of_month=True):\n",
    "        if use_week_of_month:\n",
    "            grouped_data = data.groupby(['year', 'month', 'week_of_month']).agg(num_postings=('Job Id', 'nunique')).reset_index()\n",
    "        else:\n",
    "            grouped_data = data.groupby(['year', 'month']).agg(num_postings=('Job Id', 'nunique')).reset_index()\n",
    "        return grouped_data\n",
    "\n",
    "    # Group data for both scenarios\n",
    "    grouped_data_with_week = group_data(data, use_week_of_month=True)\n",
    "    grouped_data_without_week = group_data(data, use_week_of_month=False)\n",
    "\n",
    "    # Create plots\n",
    "    fig_with_week = px.line(grouped_data_with_week, x='week_of_month', y='num_postings', color='month', line_dash='year',\n",
    "                            title='Weekly Job Postings Trend by Month and Year',\n",
    "                            labels={'week_of_month': 'Week of Month', 'num_postings': 'Number of Job Postings', 'month': 'Month-Year'})\n",
    "    fig_without_week = px.line(grouped_data_without_week, x='month', y='num_postings', color='year',\n",
    "                               title='Monthly Job Postings Trend by Year',\n",
    "                               labels={'month': 'Month', 'num_postings': 'Number of Job Postings', 'year': 'Year'})\n",
    "\n",
    "    # Initialize an empty figure\n",
    "    fig = go.Figure()\n",
    "\n",
    "    # Add traces for the plot with week of month\n",
    "    for trace in fig_with_week['data']:\n",
    "        fig.add_trace(trace)\n",
    "        fig.update_traces(visible=False)\n",
    "\n",
    "    # Add traces for the plot without week of month\n",
    "    for trace in fig_without_week['data']:\n",
    "        fig.add_trace(trace)\n",
    "\n",
    "    # Initially set the plot without week of month to be visible\n",
    "    for i in range(len(fig_without_week['data'])):\n",
    "        fig.data[i].visible = True\n",
    "\n",
    "    # Define the dropdown menu\n",
    "    updatemenu = [\n",
    "        {\n",
    "            'buttons': [\n",
    "                {\n",
    "                    'label': \"With Week of Month\",\n",
    "                    'method': \"update\",\n",
    "                    'args': [{\"visible\": [True if i < len(fig_with_week['data']) else False for i in range(len(fig_with_week['data']) + len(fig_without_week['data']))]},\n",
    "                             {\"title\": \"Weekly Job Postings Trend by Month and Year\"}]\n",
    "                },\n",
    "                {\n",
    "                    'label': \"Without Week of Month\",\n",
    "                    'method': \"update\",\n",
    "                    'args': [{\"visible\": [False if i < len(fig_with_week['data']) else True for i in range(len(fig_with_week['data']) + len(fig_without_week['data']))]},\n",
    "                             {\"title\": \"Monthly Job Postings Trend by Year\"}]\n",
    "                }\n",
    "            ],\n",
    "            'direction': \"down\",\n",
    "            'showactive': True\n",
    "        }\n",
    "    ]\n",
    "\n",
    "    # Update layout with dropdown\n",
    "    fig.update_layout(\n",
    "        updatemenus=updatemenu,\n",
    "        title=\"Monthly Job Postings Trend by Year\",\n",
    "        xaxis_title=\"Time\",\n",
    "        yaxis_title=\"Number of Job Postings\"\n",
    "    )\n",
    "\n",
    "    fig.show()\n",
    "\n",
    "\n",
    "\n",
    "# Call the function with the sample data\n",
    "create_job_postings_trend_plot(data_US)\n"
   ]
  },
  {
   "cell_type": "code",
   "execution_count": 25,
   "id": "be092643",
   "metadata": {},
   "outputs": [
    {
     "data": {
      "application/vnd.plotly.v1+json": {
       "config": {
        "plotlyServerURL": "https://plot.ly"
       },
       "data": [
        {
         "hovertemplate": "Year=2021<br>Month=%{x}<br>Number of Job Postings=%{y}<extra></extra>",
         "legendgroup": "2021",
         "line": {
          "color": "#636efa",
          "dash": "solid"
         },
         "mode": "lines",
         "name": "2021",
         "orientation": "v",
         "showlegend": true,
         "type": "scatter",
         "x": [
          9,
          10,
          11,
          12
         ],
         "xaxis": "x",
         "y": [
          1505,
          2638,
          2648,
          2731
         ],
         "yaxis": "y"
        },
        {
         "hovertemplate": "Year=2022<br>Month=%{x}<br>Number of Job Postings=%{y}<extra></extra>",
         "legendgroup": "2022",
         "line": {
          "color": "#EF553B",
          "dash": "solid"
         },
         "mode": "lines",
         "name": "2022",
         "orientation": "v",
         "showlegend": true,
         "type": "scatter",
         "x": [
          1,
          2,
          3,
          4,
          5,
          6,
          7,
          8,
          9,
          10,
          11,
          12
         ],
         "xaxis": "x",
         "y": [
          2740,
          2483,
          2808,
          2529,
          2674,
          2661,
          2817,
          2753,
          2654,
          2722,
          2735,
          2824
         ],
         "yaxis": "y"
        },
        {
         "hovertemplate": "Year=2023<br>Month=%{x}<br>Number of Job Postings=%{y}<extra></extra>",
         "legendgroup": "2023",
         "line": {
          "color": "#00cc96",
          "dash": "solid"
         },
         "mode": "lines",
         "name": "2023",
         "orientation": "v",
         "showlegend": true,
         "type": "scatter",
         "x": [
          1,
          2,
          3,
          4,
          5,
          6,
          7,
          8,
          9
         ],
         "xaxis": "x",
         "y": [
          2753,
          2526,
          2700,
          2653,
          2767,
          2593,
          2666,
          2726,
          1358
         ],
         "yaxis": "y"
        }
       ],
       "layout": {
        "legend": {
         "title": {
          "text": "Year"
         },
         "tracegroupgap": 0
        },
        "template": {
         "data": {
          "bar": [
           {
            "error_x": {
             "color": "#2a3f5f"
            },
            "error_y": {
             "color": "#2a3f5f"
            },
            "marker": {
             "line": {
              "color": "#E5ECF6",
              "width": 0.5
             }
            },
            "type": "bar"
           }
          ],
          "barpolar": [
           {
            "marker": {
             "line": {
              "color": "#E5ECF6",
              "width": 0.5
             }
            },
            "type": "barpolar"
           }
          ],
          "carpet": [
           {
            "aaxis": {
             "endlinecolor": "#2a3f5f",
             "gridcolor": "white",
             "linecolor": "white",
             "minorgridcolor": "white",
             "startlinecolor": "#2a3f5f"
            },
            "baxis": {
             "endlinecolor": "#2a3f5f",
             "gridcolor": "white",
             "linecolor": "white",
             "minorgridcolor": "white",
             "startlinecolor": "#2a3f5f"
            },
            "type": "carpet"
           }
          ],
          "choropleth": [
           {
            "colorbar": {
             "outlinewidth": 0,
             "ticks": ""
            },
            "type": "choropleth"
           }
          ],
          "contour": [
           {
            "colorbar": {
             "outlinewidth": 0,
             "ticks": ""
            },
            "colorscale": [
             [
              0,
              "#0d0887"
             ],
             [
              0.1111111111111111,
              "#46039f"
             ],
             [
              0.2222222222222222,
              "#7201a8"
             ],
             [
              0.3333333333333333,
              "#9c179e"
             ],
             [
              0.4444444444444444,
              "#bd3786"
             ],
             [
              0.5555555555555556,
              "#d8576b"
             ],
             [
              0.6666666666666666,
              "#ed7953"
             ],
             [
              0.7777777777777778,
              "#fb9f3a"
             ],
             [
              0.8888888888888888,
              "#fdca26"
             ],
             [
              1,
              "#f0f921"
             ]
            ],
            "type": "contour"
           }
          ],
          "contourcarpet": [
           {
            "colorbar": {
             "outlinewidth": 0,
             "ticks": ""
            },
            "type": "contourcarpet"
           }
          ],
          "heatmap": [
           {
            "colorbar": {
             "outlinewidth": 0,
             "ticks": ""
            },
            "colorscale": [
             [
              0,
              "#0d0887"
             ],
             [
              0.1111111111111111,
              "#46039f"
             ],
             [
              0.2222222222222222,
              "#7201a8"
             ],
             [
              0.3333333333333333,
              "#9c179e"
             ],
             [
              0.4444444444444444,
              "#bd3786"
             ],
             [
              0.5555555555555556,
              "#d8576b"
             ],
             [
              0.6666666666666666,
              "#ed7953"
             ],
             [
              0.7777777777777778,
              "#fb9f3a"
             ],
             [
              0.8888888888888888,
              "#fdca26"
             ],
             [
              1,
              "#f0f921"
             ]
            ],
            "type": "heatmap"
           }
          ],
          "heatmapgl": [
           {
            "colorbar": {
             "outlinewidth": 0,
             "ticks": ""
            },
            "colorscale": [
             [
              0,
              "#0d0887"
             ],
             [
              0.1111111111111111,
              "#46039f"
             ],
             [
              0.2222222222222222,
              "#7201a8"
             ],
             [
              0.3333333333333333,
              "#9c179e"
             ],
             [
              0.4444444444444444,
              "#bd3786"
             ],
             [
              0.5555555555555556,
              "#d8576b"
             ],
             [
              0.6666666666666666,
              "#ed7953"
             ],
             [
              0.7777777777777778,
              "#fb9f3a"
             ],
             [
              0.8888888888888888,
              "#fdca26"
             ],
             [
              1,
              "#f0f921"
             ]
            ],
            "type": "heatmapgl"
           }
          ],
          "histogram": [
           {
            "marker": {
             "colorbar": {
              "outlinewidth": 0,
              "ticks": ""
             }
            },
            "type": "histogram"
           }
          ],
          "histogram2d": [
           {
            "colorbar": {
             "outlinewidth": 0,
             "ticks": ""
            },
            "colorscale": [
             [
              0,
              "#0d0887"
             ],
             [
              0.1111111111111111,
              "#46039f"
             ],
             [
              0.2222222222222222,
              "#7201a8"
             ],
             [
              0.3333333333333333,
              "#9c179e"
             ],
             [
              0.4444444444444444,
              "#bd3786"
             ],
             [
              0.5555555555555556,
              "#d8576b"
             ],
             [
              0.6666666666666666,
              "#ed7953"
             ],
             [
              0.7777777777777778,
              "#fb9f3a"
             ],
             [
              0.8888888888888888,
              "#fdca26"
             ],
             [
              1,
              "#f0f921"
             ]
            ],
            "type": "histogram2d"
           }
          ],
          "histogram2dcontour": [
           {
            "colorbar": {
             "outlinewidth": 0,
             "ticks": ""
            },
            "colorscale": [
             [
              0,
              "#0d0887"
             ],
             [
              0.1111111111111111,
              "#46039f"
             ],
             [
              0.2222222222222222,
              "#7201a8"
             ],
             [
              0.3333333333333333,
              "#9c179e"
             ],
             [
              0.4444444444444444,
              "#bd3786"
             ],
             [
              0.5555555555555556,
              "#d8576b"
             ],
             [
              0.6666666666666666,
              "#ed7953"
             ],
             [
              0.7777777777777778,
              "#fb9f3a"
             ],
             [
              0.8888888888888888,
              "#fdca26"
             ],
             [
              1,
              "#f0f921"
             ]
            ],
            "type": "histogram2dcontour"
           }
          ],
          "mesh3d": [
           {
            "colorbar": {
             "outlinewidth": 0,
             "ticks": ""
            },
            "type": "mesh3d"
           }
          ],
          "parcoords": [
           {
            "line": {
             "colorbar": {
              "outlinewidth": 0,
              "ticks": ""
             }
            },
            "type": "parcoords"
           }
          ],
          "pie": [
           {
            "automargin": true,
            "type": "pie"
           }
          ],
          "scatter": [
           {
            "marker": {
             "colorbar": {
              "outlinewidth": 0,
              "ticks": ""
             }
            },
            "type": "scatter"
           }
          ],
          "scatter3d": [
           {
            "line": {
             "colorbar": {
              "outlinewidth": 0,
              "ticks": ""
             }
            },
            "marker": {
             "colorbar": {
              "outlinewidth": 0,
              "ticks": ""
             }
            },
            "type": "scatter3d"
           }
          ],
          "scattercarpet": [
           {
            "marker": {
             "colorbar": {
              "outlinewidth": 0,
              "ticks": ""
             }
            },
            "type": "scattercarpet"
           }
          ],
          "scattergeo": [
           {
            "marker": {
             "colorbar": {
              "outlinewidth": 0,
              "ticks": ""
             }
            },
            "type": "scattergeo"
           }
          ],
          "scattergl": [
           {
            "marker": {
             "colorbar": {
              "outlinewidth": 0,
              "ticks": ""
             }
            },
            "type": "scattergl"
           }
          ],
          "scattermapbox": [
           {
            "marker": {
             "colorbar": {
              "outlinewidth": 0,
              "ticks": ""
             }
            },
            "type": "scattermapbox"
           }
          ],
          "scatterpolar": [
           {
            "marker": {
             "colorbar": {
              "outlinewidth": 0,
              "ticks": ""
             }
            },
            "type": "scatterpolar"
           }
          ],
          "scatterpolargl": [
           {
            "marker": {
             "colorbar": {
              "outlinewidth": 0,
              "ticks": ""
             }
            },
            "type": "scatterpolargl"
           }
          ],
          "scatterternary": [
           {
            "marker": {
             "colorbar": {
              "outlinewidth": 0,
              "ticks": ""
             }
            },
            "type": "scatterternary"
           }
          ],
          "surface": [
           {
            "colorbar": {
             "outlinewidth": 0,
             "ticks": ""
            },
            "colorscale": [
             [
              0,
              "#0d0887"
             ],
             [
              0.1111111111111111,
              "#46039f"
             ],
             [
              0.2222222222222222,
              "#7201a8"
             ],
             [
              0.3333333333333333,
              "#9c179e"
             ],
             [
              0.4444444444444444,
              "#bd3786"
             ],
             [
              0.5555555555555556,
              "#d8576b"
             ],
             [
              0.6666666666666666,
              "#ed7953"
             ],
             [
              0.7777777777777778,
              "#fb9f3a"
             ],
             [
              0.8888888888888888,
              "#fdca26"
             ],
             [
              1,
              "#f0f921"
             ]
            ],
            "type": "surface"
           }
          ],
          "table": [
           {
            "cells": {
             "fill": {
              "color": "#EBF0F8"
             },
             "line": {
              "color": "white"
             }
            },
            "header": {
             "fill": {
              "color": "#C8D4E3"
             },
             "line": {
              "color": "white"
             }
            },
            "type": "table"
           }
          ]
         },
         "layout": {
          "annotationdefaults": {
           "arrowcolor": "#2a3f5f",
           "arrowhead": 0,
           "arrowwidth": 1
          },
          "autotypenumbers": "strict",
          "coloraxis": {
           "colorbar": {
            "outlinewidth": 0,
            "ticks": ""
           }
          },
          "colorscale": {
           "diverging": [
            [
             0,
             "#8e0152"
            ],
            [
             0.1,
             "#c51b7d"
            ],
            [
             0.2,
             "#de77ae"
            ],
            [
             0.3,
             "#f1b6da"
            ],
            [
             0.4,
             "#fde0ef"
            ],
            [
             0.5,
             "#f7f7f7"
            ],
            [
             0.6,
             "#e6f5d0"
            ],
            [
             0.7,
             "#b8e186"
            ],
            [
             0.8,
             "#7fbc41"
            ],
            [
             0.9,
             "#4d9221"
            ],
            [
             1,
             "#276419"
            ]
           ],
           "sequential": [
            [
             0,
             "#0d0887"
            ],
            [
             0.1111111111111111,
             "#46039f"
            ],
            [
             0.2222222222222222,
             "#7201a8"
            ],
            [
             0.3333333333333333,
             "#9c179e"
            ],
            [
             0.4444444444444444,
             "#bd3786"
            ],
            [
             0.5555555555555556,
             "#d8576b"
            ],
            [
             0.6666666666666666,
             "#ed7953"
            ],
            [
             0.7777777777777778,
             "#fb9f3a"
            ],
            [
             0.8888888888888888,
             "#fdca26"
            ],
            [
             1,
             "#f0f921"
            ]
           ],
           "sequentialminus": [
            [
             0,
             "#0d0887"
            ],
            [
             0.1111111111111111,
             "#46039f"
            ],
            [
             0.2222222222222222,
             "#7201a8"
            ],
            [
             0.3333333333333333,
             "#9c179e"
            ],
            [
             0.4444444444444444,
             "#bd3786"
            ],
            [
             0.5555555555555556,
             "#d8576b"
            ],
            [
             0.6666666666666666,
             "#ed7953"
            ],
            [
             0.7777777777777778,
             "#fb9f3a"
            ],
            [
             0.8888888888888888,
             "#fdca26"
            ],
            [
             1,
             "#f0f921"
            ]
           ]
          },
          "colorway": [
           "#636efa",
           "#EF553B",
           "#00cc96",
           "#ab63fa",
           "#FFA15A",
           "#19d3f3",
           "#FF6692",
           "#B6E880",
           "#FF97FF",
           "#FECB52"
          ],
          "font": {
           "color": "#2a3f5f"
          },
          "geo": {
           "bgcolor": "white",
           "lakecolor": "white",
           "landcolor": "#E5ECF6",
           "showlakes": true,
           "showland": true,
           "subunitcolor": "white"
          },
          "hoverlabel": {
           "align": "left"
          },
          "hovermode": "closest",
          "mapbox": {
           "style": "light"
          },
          "paper_bgcolor": "white",
          "plot_bgcolor": "#E5ECF6",
          "polar": {
           "angularaxis": {
            "gridcolor": "white",
            "linecolor": "white",
            "ticks": ""
           },
           "bgcolor": "#E5ECF6",
           "radialaxis": {
            "gridcolor": "white",
            "linecolor": "white",
            "ticks": ""
           }
          },
          "scene": {
           "xaxis": {
            "backgroundcolor": "#E5ECF6",
            "gridcolor": "white",
            "gridwidth": 2,
            "linecolor": "white",
            "showbackground": true,
            "ticks": "",
            "zerolinecolor": "white"
           },
           "yaxis": {
            "backgroundcolor": "#E5ECF6",
            "gridcolor": "white",
            "gridwidth": 2,
            "linecolor": "white",
            "showbackground": true,
            "ticks": "",
            "zerolinecolor": "white"
           },
           "zaxis": {
            "backgroundcolor": "#E5ECF6",
            "gridcolor": "white",
            "gridwidth": 2,
            "linecolor": "white",
            "showbackground": true,
            "ticks": "",
            "zerolinecolor": "white"
           }
          },
          "shapedefaults": {
           "line": {
            "color": "#2a3f5f"
           }
          },
          "ternary": {
           "aaxis": {
            "gridcolor": "white",
            "linecolor": "white",
            "ticks": ""
           },
           "baxis": {
            "gridcolor": "white",
            "linecolor": "white",
            "ticks": ""
           },
           "bgcolor": "#E5ECF6",
           "caxis": {
            "gridcolor": "white",
            "linecolor": "white",
            "ticks": ""
           }
          },
          "title": {
           "x": 0.05
          },
          "xaxis": {
           "automargin": true,
           "gridcolor": "white",
           "linecolor": "white",
           "ticks": "",
           "title": {
            "standoff": 15
           },
           "zerolinecolor": "white",
           "zerolinewidth": 2
          },
          "yaxis": {
           "automargin": true,
           "gridcolor": "white",
           "linecolor": "white",
           "ticks": "",
           "title": {
            "standoff": 15
           },
           "zerolinecolor": "white",
           "zerolinewidth": 2
          }
         }
        },
        "title": {
         "text": "Job Postings Trend for Each Year"
        },
        "xaxis": {
         "anchor": "y",
         "domain": [
          0,
          1
         ],
         "title": {
          "text": "Month"
         }
        },
        "yaxis": {
         "anchor": "x",
         "domain": [
          0,
          1
         ],
         "title": {
          "text": "Number of Job Postings"
         }
        }
       }
      },
      "text/html": [
       "<div>                            <div id=\"945bd670-e214-4eda-9320-d1cd4bb01116\" class=\"plotly-graph-div\" style=\"height:525px; width:100%;\"></div>            <script type=\"text/javascript\">                require([\"plotly\"], function(Plotly) {                    window.PLOTLYENV=window.PLOTLYENV || {};                                    if (document.getElementById(\"945bd670-e214-4eda-9320-d1cd4bb01116\")) {                    Plotly.newPlot(                        \"945bd670-e214-4eda-9320-d1cd4bb01116\",                        [{\"hovertemplate\": \"Year=2021<br>Month=%{x}<br>Number of Job Postings=%{y}<extra></extra>\", \"legendgroup\": \"2021\", \"line\": {\"color\": \"#636efa\", \"dash\": \"solid\"}, \"mode\": \"lines\", \"name\": \"2021\", \"orientation\": \"v\", \"showlegend\": true, \"type\": \"scatter\", \"x\": [9, 10, 11, 12], \"xaxis\": \"x\", \"y\": [1505, 2638, 2648, 2731], \"yaxis\": \"y\"}, {\"hovertemplate\": \"Year=2022<br>Month=%{x}<br>Number of Job Postings=%{y}<extra></extra>\", \"legendgroup\": \"2022\", \"line\": {\"color\": \"#EF553B\", \"dash\": \"solid\"}, \"mode\": \"lines\", \"name\": \"2022\", \"orientation\": \"v\", \"showlegend\": true, \"type\": \"scatter\", \"x\": [1, 2, 3, 4, 5, 6, 7, 8, 9, 10, 11, 12], \"xaxis\": \"x\", \"y\": [2740, 2483, 2808, 2529, 2674, 2661, 2817, 2753, 2654, 2722, 2735, 2824], \"yaxis\": \"y\"}, {\"hovertemplate\": \"Year=2023<br>Month=%{x}<br>Number of Job Postings=%{y}<extra></extra>\", \"legendgroup\": \"2023\", \"line\": {\"color\": \"#00cc96\", \"dash\": \"solid\"}, \"mode\": \"lines\", \"name\": \"2023\", \"orientation\": \"v\", \"showlegend\": true, \"type\": \"scatter\", \"x\": [1, 2, 3, 4, 5, 6, 7, 8, 9], \"xaxis\": \"x\", \"y\": [2753, 2526, 2700, 2653, 2767, 2593, 2666, 2726, 1358], \"yaxis\": \"y\"}],                        {\"legend\": {\"title\": {\"text\": \"Year\"}, \"tracegroupgap\": 0}, \"template\": {\"data\": {\"bar\": [{\"error_x\": {\"color\": \"#2a3f5f\"}, \"error_y\": {\"color\": \"#2a3f5f\"}, \"marker\": {\"line\": {\"color\": \"#E5ECF6\", \"width\": 0.5}}, \"type\": \"bar\"}], \"barpolar\": [{\"marker\": {\"line\": {\"color\": \"#E5ECF6\", \"width\": 0.5}}, \"type\": \"barpolar\"}], \"carpet\": [{\"aaxis\": {\"endlinecolor\": \"#2a3f5f\", \"gridcolor\": \"white\", \"linecolor\": \"white\", \"minorgridcolor\": \"white\", \"startlinecolor\": \"#2a3f5f\"}, \"baxis\": {\"endlinecolor\": \"#2a3f5f\", \"gridcolor\": \"white\", \"linecolor\": \"white\", \"minorgridcolor\": \"white\", \"startlinecolor\": \"#2a3f5f\"}, \"type\": \"carpet\"}], \"choropleth\": [{\"colorbar\": {\"outlinewidth\": 0, \"ticks\": \"\"}, \"type\": \"choropleth\"}], \"contour\": [{\"colorbar\": {\"outlinewidth\": 0, \"ticks\": \"\"}, \"colorscale\": [[0.0, \"#0d0887\"], [0.1111111111111111, \"#46039f\"], [0.2222222222222222, \"#7201a8\"], [0.3333333333333333, \"#9c179e\"], [0.4444444444444444, \"#bd3786\"], [0.5555555555555556, \"#d8576b\"], [0.6666666666666666, \"#ed7953\"], [0.7777777777777778, \"#fb9f3a\"], [0.8888888888888888, \"#fdca26\"], [1.0, \"#f0f921\"]], \"type\": \"contour\"}], \"contourcarpet\": [{\"colorbar\": {\"outlinewidth\": 0, \"ticks\": \"\"}, \"type\": \"contourcarpet\"}], \"heatmap\": [{\"colorbar\": {\"outlinewidth\": 0, \"ticks\": \"\"}, \"colorscale\": [[0.0, \"#0d0887\"], [0.1111111111111111, \"#46039f\"], [0.2222222222222222, \"#7201a8\"], [0.3333333333333333, \"#9c179e\"], [0.4444444444444444, \"#bd3786\"], [0.5555555555555556, \"#d8576b\"], [0.6666666666666666, \"#ed7953\"], [0.7777777777777778, \"#fb9f3a\"], [0.8888888888888888, \"#fdca26\"], [1.0, \"#f0f921\"]], \"type\": \"heatmap\"}], \"heatmapgl\": [{\"colorbar\": {\"outlinewidth\": 0, \"ticks\": \"\"}, \"colorscale\": [[0.0, \"#0d0887\"], [0.1111111111111111, \"#46039f\"], [0.2222222222222222, \"#7201a8\"], [0.3333333333333333, \"#9c179e\"], [0.4444444444444444, \"#bd3786\"], [0.5555555555555556, \"#d8576b\"], [0.6666666666666666, \"#ed7953\"], [0.7777777777777778, \"#fb9f3a\"], [0.8888888888888888, \"#fdca26\"], [1.0, \"#f0f921\"]], \"type\": \"heatmapgl\"}], \"histogram\": [{\"marker\": {\"colorbar\": {\"outlinewidth\": 0, \"ticks\": \"\"}}, \"type\": \"histogram\"}], \"histogram2d\": [{\"colorbar\": {\"outlinewidth\": 0, \"ticks\": \"\"}, \"colorscale\": [[0.0, \"#0d0887\"], [0.1111111111111111, \"#46039f\"], [0.2222222222222222, \"#7201a8\"], [0.3333333333333333, \"#9c179e\"], [0.4444444444444444, \"#bd3786\"], [0.5555555555555556, \"#d8576b\"], [0.6666666666666666, \"#ed7953\"], [0.7777777777777778, \"#fb9f3a\"], [0.8888888888888888, \"#fdca26\"], [1.0, \"#f0f921\"]], \"type\": \"histogram2d\"}], \"histogram2dcontour\": [{\"colorbar\": {\"outlinewidth\": 0, \"ticks\": \"\"}, \"colorscale\": [[0.0, \"#0d0887\"], [0.1111111111111111, \"#46039f\"], [0.2222222222222222, \"#7201a8\"], [0.3333333333333333, \"#9c179e\"], [0.4444444444444444, \"#bd3786\"], [0.5555555555555556, \"#d8576b\"], [0.6666666666666666, \"#ed7953\"], [0.7777777777777778, \"#fb9f3a\"], [0.8888888888888888, \"#fdca26\"], [1.0, \"#f0f921\"]], \"type\": \"histogram2dcontour\"}], \"mesh3d\": [{\"colorbar\": {\"outlinewidth\": 0, \"ticks\": \"\"}, \"type\": \"mesh3d\"}], \"parcoords\": [{\"line\": {\"colorbar\": {\"outlinewidth\": 0, \"ticks\": \"\"}}, \"type\": \"parcoords\"}], \"pie\": [{\"automargin\": true, \"type\": \"pie\"}], \"scatter\": [{\"marker\": {\"colorbar\": {\"outlinewidth\": 0, \"ticks\": \"\"}}, \"type\": \"scatter\"}], \"scatter3d\": [{\"line\": {\"colorbar\": {\"outlinewidth\": 0, \"ticks\": \"\"}}, \"marker\": {\"colorbar\": {\"outlinewidth\": 0, \"ticks\": \"\"}}, \"type\": \"scatter3d\"}], \"scattercarpet\": [{\"marker\": {\"colorbar\": {\"outlinewidth\": 0, \"ticks\": \"\"}}, \"type\": \"scattercarpet\"}], \"scattergeo\": [{\"marker\": {\"colorbar\": {\"outlinewidth\": 0, \"ticks\": \"\"}}, \"type\": \"scattergeo\"}], \"scattergl\": [{\"marker\": {\"colorbar\": {\"outlinewidth\": 0, \"ticks\": \"\"}}, \"type\": \"scattergl\"}], \"scattermapbox\": [{\"marker\": {\"colorbar\": {\"outlinewidth\": 0, \"ticks\": \"\"}}, \"type\": \"scattermapbox\"}], \"scatterpolar\": [{\"marker\": {\"colorbar\": {\"outlinewidth\": 0, \"ticks\": \"\"}}, \"type\": \"scatterpolar\"}], \"scatterpolargl\": [{\"marker\": {\"colorbar\": {\"outlinewidth\": 0, \"ticks\": \"\"}}, \"type\": \"scatterpolargl\"}], \"scatterternary\": [{\"marker\": {\"colorbar\": {\"outlinewidth\": 0, \"ticks\": \"\"}}, \"type\": \"scatterternary\"}], \"surface\": [{\"colorbar\": {\"outlinewidth\": 0, \"ticks\": \"\"}, \"colorscale\": [[0.0, \"#0d0887\"], [0.1111111111111111, \"#46039f\"], [0.2222222222222222, \"#7201a8\"], [0.3333333333333333, \"#9c179e\"], [0.4444444444444444, \"#bd3786\"], [0.5555555555555556, \"#d8576b\"], [0.6666666666666666, \"#ed7953\"], [0.7777777777777778, \"#fb9f3a\"], [0.8888888888888888, \"#fdca26\"], [1.0, \"#f0f921\"]], \"type\": \"surface\"}], \"table\": [{\"cells\": {\"fill\": {\"color\": \"#EBF0F8\"}, \"line\": {\"color\": \"white\"}}, \"header\": {\"fill\": {\"color\": \"#C8D4E3\"}, \"line\": {\"color\": \"white\"}}, \"type\": \"table\"}]}, \"layout\": {\"annotationdefaults\": {\"arrowcolor\": \"#2a3f5f\", \"arrowhead\": 0, \"arrowwidth\": 1}, \"autotypenumbers\": \"strict\", \"coloraxis\": {\"colorbar\": {\"outlinewidth\": 0, \"ticks\": \"\"}}, \"colorscale\": {\"diverging\": [[0, \"#8e0152\"], [0.1, \"#c51b7d\"], [0.2, \"#de77ae\"], [0.3, \"#f1b6da\"], [0.4, \"#fde0ef\"], [0.5, \"#f7f7f7\"], [0.6, \"#e6f5d0\"], [0.7, \"#b8e186\"], [0.8, \"#7fbc41\"], [0.9, \"#4d9221\"], [1, \"#276419\"]], \"sequential\": [[0.0, \"#0d0887\"], [0.1111111111111111, \"#46039f\"], [0.2222222222222222, \"#7201a8\"], [0.3333333333333333, \"#9c179e\"], [0.4444444444444444, \"#bd3786\"], [0.5555555555555556, \"#d8576b\"], [0.6666666666666666, \"#ed7953\"], [0.7777777777777778, \"#fb9f3a\"], [0.8888888888888888, \"#fdca26\"], [1.0, \"#f0f921\"]], \"sequentialminus\": [[0.0, \"#0d0887\"], [0.1111111111111111, \"#46039f\"], [0.2222222222222222, \"#7201a8\"], [0.3333333333333333, \"#9c179e\"], [0.4444444444444444, \"#bd3786\"], [0.5555555555555556, \"#d8576b\"], [0.6666666666666666, \"#ed7953\"], [0.7777777777777778, \"#fb9f3a\"], [0.8888888888888888, \"#fdca26\"], [1.0, \"#f0f921\"]]}, \"colorway\": [\"#636efa\", \"#EF553B\", \"#00cc96\", \"#ab63fa\", \"#FFA15A\", \"#19d3f3\", \"#FF6692\", \"#B6E880\", \"#FF97FF\", \"#FECB52\"], \"font\": {\"color\": \"#2a3f5f\"}, \"geo\": {\"bgcolor\": \"white\", \"lakecolor\": \"white\", \"landcolor\": \"#E5ECF6\", \"showlakes\": true, \"showland\": true, \"subunitcolor\": \"white\"}, \"hoverlabel\": {\"align\": \"left\"}, \"hovermode\": \"closest\", \"mapbox\": {\"style\": \"light\"}, \"paper_bgcolor\": \"white\", \"plot_bgcolor\": \"#E5ECF6\", \"polar\": {\"angularaxis\": {\"gridcolor\": \"white\", \"linecolor\": \"white\", \"ticks\": \"\"}, \"bgcolor\": \"#E5ECF6\", \"radialaxis\": {\"gridcolor\": \"white\", \"linecolor\": \"white\", \"ticks\": \"\"}}, \"scene\": {\"xaxis\": {\"backgroundcolor\": \"#E5ECF6\", \"gridcolor\": \"white\", \"gridwidth\": 2, \"linecolor\": \"white\", \"showbackground\": true, \"ticks\": \"\", \"zerolinecolor\": \"white\"}, \"yaxis\": {\"backgroundcolor\": \"#E5ECF6\", \"gridcolor\": \"white\", \"gridwidth\": 2, \"linecolor\": \"white\", \"showbackground\": true, \"ticks\": \"\", \"zerolinecolor\": \"white\"}, \"zaxis\": {\"backgroundcolor\": \"#E5ECF6\", \"gridcolor\": \"white\", \"gridwidth\": 2, \"linecolor\": \"white\", \"showbackground\": true, \"ticks\": \"\", \"zerolinecolor\": \"white\"}}, \"shapedefaults\": {\"line\": {\"color\": \"#2a3f5f\"}}, \"ternary\": {\"aaxis\": {\"gridcolor\": \"white\", \"linecolor\": \"white\", \"ticks\": \"\"}, \"baxis\": {\"gridcolor\": \"white\", \"linecolor\": \"white\", \"ticks\": \"\"}, \"bgcolor\": \"#E5ECF6\", \"caxis\": {\"gridcolor\": \"white\", \"linecolor\": \"white\", \"ticks\": \"\"}}, \"title\": {\"x\": 0.05}, \"xaxis\": {\"automargin\": true, \"gridcolor\": \"white\", \"linecolor\": \"white\", \"ticks\": \"\", \"title\": {\"standoff\": 15}, \"zerolinecolor\": \"white\", \"zerolinewidth\": 2}, \"yaxis\": {\"automargin\": true, \"gridcolor\": \"white\", \"linecolor\": \"white\", \"ticks\": \"\", \"title\": {\"standoff\": 15}, \"zerolinecolor\": \"white\", \"zerolinewidth\": 2}}}, \"title\": {\"text\": \"Job Postings Trend for Each Year\"}, \"xaxis\": {\"anchor\": \"y\", \"domain\": [0.0, 1.0], \"title\": {\"text\": \"Month\"}}, \"yaxis\": {\"anchor\": \"x\", \"domain\": [0.0, 1.0], \"title\": {\"text\": \"Number of Job Postings\"}}},                        {\"responsive\": true}                    ).then(function(){\n",
       "                            \n",
       "var gd = document.getElementById('945bd670-e214-4eda-9320-d1cd4bb01116');\n",
       "var x = new MutationObserver(function (mutations, observer) {{\n",
       "        var display = window.getComputedStyle(gd).display;\n",
       "        if (!display || display === 'none') {{\n",
       "            console.log([gd, 'removed!']);\n",
       "            Plotly.purge(gd);\n",
       "            observer.disconnect();\n",
       "        }}\n",
       "}});\n",
       "\n",
       "// Listen for the removal of the full notebook cells\n",
       "var notebookContainer = gd.closest('#notebook-container');\n",
       "if (notebookContainer) {{\n",
       "    x.observe(notebookContainer, {childList: true});\n",
       "}}\n",
       "\n",
       "// Listen for the clearing of the current output cell\n",
       "var outputEl = gd.closest('.output');\n",
       "if (outputEl) {{\n",
       "    x.observe(outputEl, {childList: true});\n",
       "}}\n",
       "\n",
       "                        })                };                });            </script>        </div>"
      ]
     },
     "metadata": {},
     "output_type": "display_data"
    }
   ],
   "source": [
    "import pandas as pd\n",
    "import plotly.express as px\n",
    "\n",
    "# Assuming data is already loaded and 'Job Posting Date' is in datetime format\n",
    "\n",
    "# Group data by year and month\n",
    "grouped_data = data_US.groupby(['year', 'month']).agg(num_postings=('Job Id', 'nunique')).reset_index()\n",
    "\n",
    "# Create a separate graph for each year\n",
    "fig = px.line(grouped_data, x='month', y='num_postings', color='year', \n",
    "              title='Job Postings Trend for Each Year',\n",
    "              labels={'month': 'Month', 'num_postings': 'Number of Job Postings', 'year': 'Year'})\n",
    "\n",
    "# Show the plot\n",
    "fig.show()\n"
   ]
  },
  {
   "cell_type": "code",
   "execution_count": null,
   "id": "477f57a2",
   "metadata": {},
   "outputs": [],
   "source": []
  }
 ],
 "metadata": {
  "kernelspec": {
   "display_name": "Python 3 (ipykernel)",
   "language": "python",
   "name": "python3"
  },
  "language_info": {
   "codemirror_mode": {
    "name": "ipython",
    "version": 3
   },
   "file_extension": ".py",
   "mimetype": "text/x-python",
   "name": "python",
   "nbconvert_exporter": "python",
   "pygments_lexer": "ipython3",
   "version": "3.9.5"
  }
 },
 "nbformat": 4,
 "nbformat_minor": 5
}
